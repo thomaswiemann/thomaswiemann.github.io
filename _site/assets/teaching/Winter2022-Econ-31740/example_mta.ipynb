{
 "cells": [
  {
   "cell_type": "markdown",
   "metadata": {},
   "source": [
    "# Implementing the Mass Transport Approach for Discrete Choice Models\n",
    "\n",
    "\n",
    "_Thomas Wiemann_\n",
    "\n",
    "_TA Discussion \\# 6_  \n",
    "_ECON 31740_  \n",
    "\n",
    "_Feburary 21, 2022_  "
   ]
  },
  {
   "cell_type": "markdown",
   "metadata": {},
   "source": [
    "## Section 0: Preliminaries\n",
    "\n",
    "This section loads the necessary dependencies. The mass transport approach is implemented in a custom package, ``MyMethods.jl``, which is readily available via https://github.com/thomaswiemann/MyMethods.jl. (See the ``README.md`` for installation instructions.) "
   ]
  },
  {
   "cell_type": "code",
   "execution_count": 2,
   "metadata": {},
   "outputs": [],
   "source": [
    "# Load custom package for basis functions. If not yet installed, run the following:\n",
    "#    ``using Pkg; Pkg.add(PackageSpec(url=\"https://github.com/thomaswiemann/MyMethods.jl\")))``.\n",
    "using MyMethods\n",
    "\n",
    "# Load additional dependencies\n",
    "using Distributions, BenchmarkTools\n",
    "using Plots, LaTeXStrings"
   ]
  },
  {
   "cell_type": "code",
   "execution_count": 46,
   "metadata": {},
   "outputs": [
    {
     "data": {
      "text/plain": [
       "10×3 Matrix{Float64}:\n",
       " 0.106507   0.786986  0.106507\n",
       " 0.070517   0.788449  0.141034\n",
       " 0.0516413  0.793435  0.154924\n",
       " 0.0398636  0.800682  0.159454\n",
       " 0.0318132  0.809121  0.159066\n",
       " 0.0259846  0.818108  0.155908\n",
       " 0.0215929  0.827257  0.15115\n",
       " 0.0181851  0.836334  0.145481\n",
       " 0.0154803  0.845197  0.139323\n",
       " 0.0132948  0.853758  0.132948"
      ]
     },
     "execution_count": 46,
     "metadata": {},
     "output_type": "execute_result"
    }
   ],
   "source": [
    "# Generate example data and calculate conditional choice probabilities \n",
    "J = 3\n",
    "x = collect(1:1:10)\n",
    "T = length(x)\n",
    "mu = zeros((T, J))\n",
    "\n",
    "mu[:, 1] .= 0\n",
    "mu[:, 2] = 1 .+ sqrt.(x)\n",
    "mu[:, 3] = log.(x)\n",
    "\n",
    "mu = exp.(mu)\n",
    "CCP = mu ./ (sum(mu, dims = 2))    "
   ]
  },
  {
   "cell_type": "code",
   "execution_count": 47,
   "metadata": {},
   "outputs": [
    {
     "data": {
      "text/plain": [
       "GeneralizedExtremeValue{Float64}(μ=-0.57721, σ=1.0, ξ=0.0)"
      ]
     },
     "execution_count": 47,
     "metadata": {},
     "output_type": "execute_result"
    }
   ],
   "source": [
    "# Define error distribution\n",
    "Q = GeneralizedExtremeValue(-0.57721, 1, 0)"
   ]
  },
  {
   "cell_type": "code",
   "execution_count": 48,
   "metadata": {},
   "outputs": [],
   "source": [
    "# First indetermancy issue\n",
    "n_sim = 100\n",
    "S_mat = collect(1:1:10)\n",
    "bounds = zeros((J, 2, length(S_mat)))\n",
    "for s in 1:length(S_mat)\n",
    "    # Draw latent utility shocks\n",
    "    ϵ_s = rand(Q, (J, maximum(S_mat)))\n",
    "    for k in 1:n_sim\n",
    "        # Estimate w via mass transport approach\n",
    "        mta_fit_s = myMTA(CCP[10, :], ϵ = ϵ_s[:, 1:S_mat[s]])\n",
    "\n",
    "        # Estimate bounds on w \n",
    "        bounds_s = get_mtabounds(mta_fit_s)\n",
    "\n",
    "        # Store results\n",
    "        bounds[:, :, s] = bounds[:, :, s] + bounds_s\n",
    "    end    \n",
    "end\n",
    "bounds = bounds ./ n_sim;"
   ]
  },
  {
   "cell_type": "code",
   "execution_count": 49,
   "metadata": {},
   "outputs": [
    {
     "data": {
      "text/plain": [
       "3×10 Matrix{Float64}:\n",
       " 0.0           0.0          0.0          …  0.0           0.0\n",
       " 3.21965e-15  -1.95399e-14  8.43769e-15     1.57652e-14  -4.17444e-14\n",
       " 1.33227e-15  -3.37508e-14  1.40998e-14     2.66454e-14  -4.85167e-14"
      ]
     },
     "execution_count": 49,
     "metadata": {},
     "output_type": "execute_result"
    }
   ],
   "source": [
    "bounds[:, 2, :] .- bounds[:, 1, :]"
   ]
  },
  {
   "cell_type": "code",
   "execution_count": 50,
   "metadata": {},
   "outputs": [
    {
     "data": {
      "text/plain": [
       "100"
      ]
     },
     "execution_count": 50,
     "metadata": {},
     "output_type": "execute_result"
    }
   ],
   "source": [
    "n_sim = 100"
   ]
  },
  {
   "cell_type": "code",
   "execution_count": 116,
   "metadata": {},
   "outputs": [
    {
     "name": "stdout",
     "output_type": "stream",
     "text": [
      "  215.073 ms (116243 allocations: 7.72 MiB)\n"
     ]
    },
    {
     "data": {
      "text/plain": [
       "myMTA([-0.0, 2.016450095589022, 0.12295584888410382], [0.10650697891920075, 0.7869860421615985, 0.10650697891920075], GeneralizedExtremeValue{Float64}(μ=-0.57721, σ=1.0, ξ=0.0), 1000, 0.688658701292739, [-0.6146108278845254 -1.2494638944612175 … -0.9659648783095726 2.998127725783435; -0.6848096212364355 -1.4675242532415935 … -1.287029160833402 -0.2364149826501199; -0.6052902405568428 -0.3109623243867106 … 0.39834192310229766 6.237168650040424], A JuMP Model\n",
       "Minimization problem with:\n",
       "Variables: 1003\n",
       "Objective function type: JuMP.AffExpr\n",
       "`JuMP.AffExpr`-in-`MathOptInterface.EqualTo{Float64}`: 1 constraint\n",
       "`JuMP.AffExpr`-in-`MathOptInterface.GreaterThan{Float64}`: 3000 constraints\n",
       "Model mode: AUTOMATIC\n",
       "CachingOptimizer state: ATTACHED_OPTIMIZER\n",
       "Solver name: GLPK\n",
       "Names registered in the model: c, w0, z, λ)"
      ]
     },
     "execution_count": 116,
     "metadata": {},
     "output_type": "execute_result"
    }
   ],
   "source": [
    "@btime mta_fit = myMTA(CCP[1, :], Q = Q, S = 1000)"
   ]
  },
  {
   "cell_type": "code",
   "execution_count": 51,
   "metadata": {},
   "outputs": [],
   "source": [
    "w_mat = zeros((J, T, n_sim))\n",
    "for t in 1:T\n",
    "    for s in 1:n_sim\n",
    "        # Estimate w via mass transport approach\n",
    "        mta_fit_t = myMTA(CCP[t, :], Q = Q, S = 1000)\n",
    "\n",
    "        # Store results\n",
    "        w_mat[:, t, s] = mta_fit_t.w\n",
    "    end\n",
    "end"
   ]
  },
  {
   "cell_type": "code",
   "execution_count": 54,
   "metadata": {},
   "outputs": [
    {
     "data": {
      "text/plain": [
       "3×10 Matrix{Float64}:\n",
       " 0.0        0.0       0.0      0.0      …  0.0      0.0      0.0      0.0\n",
       " 2.00277    2.43663   2.70772  3.01425     3.60226  3.77493  4.01095  4.13147\n",
       " 0.0161423  0.713511  1.07587  1.39843     1.90441  2.03692  2.204    2.2646"
      ]
     },
     "execution_count": 54,
     "metadata": {},
     "output_type": "execute_result"
    }
   ],
   "source": [
    "w_coefs = mapslices(mean, w_mat, dims = 3)[:, :, 1]"
   ]
  },
  {
   "cell_type": "code",
   "execution_count": 63,
   "metadata": {},
   "outputs": [
    {
     "data": {
      "text/plain": [
       "3×10 Matrix{Float64}:\n",
       " 0.0       0.0       0.0      0.0      …  0.0      0.0      0.0      0.0\n",
       " 2.15919   2.60731   2.8667   3.18709     3.83217  4.03826  4.30944  4.48205\n",
       " 0.197219  0.914526  1.25684  1.62562     2.13414  2.3008   2.55511  2.62619"
      ]
     },
     "execution_count": 63,
     "metadata": {},
     "output_type": "execute_result"
    }
   ],
   "source": [
    "w_q10 = mapslices(x -> quantile(x, 0.1), w_mat, dims = 3)[:, :, 1]\n",
    "w_q90 = mapslices(x -> quantile(x, 0.9), w_mat, dims = 3)[:, :, 1]"
   ]
  },
  {
   "cell_type": "code",
   "execution_count": 60,
   "metadata": {},
   "outputs": [
    {
     "data": {
      "text/plain": [
       "1.8784488815784504"
      ]
     },
     "execution_count": 60,
     "metadata": {},
     "output_type": "execute_result"
    }
   ],
   "source": [
    "quantile(w_mat[2, 1, :], 0.1)"
   ]
  },
  {
   "cell_type": "code",
   "execution_count": 115,
   "metadata": {},
   "outputs": [
    {
     "data": {
      "image/png": "[encoded data removed]",
      "text/plain": [
       "PyPlot.Figure(PyObject <Figure size 500x300 with 1 Axes>)"
      ]
     },
     "metadata": {},
     "output_type": "display_data"
    }
   ],
   "source": [
    "# Initialize plot\n",
    "pyplot(size=(500,300), leg=true);\n",
    "\n",
    "# Plot parameters\n",
    "plt=plot(x, log.(mu[:, 2]), line = (:line, :line, 0.5, 1, :red), label=L\"$w_1(x)=1+\\sqrt{x}$\")\n",
    "plot!(x, log.(mu[:, 3]), line = (:line, :line, 0.5, 1, :blue), label=L\"$w_2(x)=\\log x$\")\n",
    "plot!(x, w_coefs[2, :], seriestype = :scatter, markershape=:rect, markersize=4, color=:orange, label=L\"$\\hat{w}_1(x)$\")\n",
    "plot!(x, w_coefs[3, :], seriestype = :scatter, markershape=:rect, markersize=4, color=:blue, label=L\"$\\hat{w}_2(x)$\")\n",
    "plot!(x, w_q10[2, :], seriestype = :scatter, markershape=:hline, markersize=9, color=:black, label=\"\")\n",
    "plot!(x, w_q90[2, :], seriestype = :scatter, markershape=:hline, markersize=9, color=:black, label=\"\")\n",
    "plot!(x, w_q10[3, :], seriestype = :scatter, markershape=:hline, markersize=9, color=:black, label=\"\")\n",
    "plot!(x, w_q90[3, :], seriestype = :scatter, markershape=:hline, markersize=9, color=:black, label=\"\")\n",
    "\n",
    "# Additional formatting\n",
    "plot!(legend=(0.675,0), framestyle = :box, grid=false, \n",
    "    background_color_legend = nothing)\n",
    "ylabel!(L\"$w_y$\")\n",
    "xlabel!(\"x\")\n",
    "\n",
    "# Save as pdf\n",
    "savefig(plt,\"mta_plot.pdf\")"
   ]
  },
  {
   "cell_type": "code",
   "execution_count": null,
   "metadata": {},
   "outputs": [],
   "source": []
  },
  {
   "cell_type": "code",
   "execution_count": null,
   "metadata": {},
   "outputs": [],
   "source": [
    "bounds"
   ]
  },
  {
   "cell_type": "code",
   "execution_count": null,
   "metadata": {},
   "outputs": [],
   "source": [
    "w_mat = zeros((J, T))\n",
    "for t in 1:T\n",
    "    # Estimate w via mass transport approach\n",
    "    mta_fit_t = myMTA(CCP[t, :], Q, S = 1000)\n",
    "    \n",
    "    # Estimate bounds on w \n",
    "    bounds_t = get_mtabounds(mta_fit_t)\n",
    "    \n",
    "    # Store results\n",
    "    w_mat[:, t] = mta_fit_t.w\n",
    "end"
   ]
  },
  {
   "cell_type": "code",
   "execution_count": null,
   "metadata": {},
   "outputs": [],
   "source": [
    "w_mat"
   ]
  },
  {
   "cell_type": "markdown",
   "metadata": {},
   "source": [
    "## Section 1: A Most Simple Example\n",
    "\n",
    "This section generates conditional choice probabilities of $J=3$ products in $T=100$ markets, with product-market specific characteristics $x_{jt}\\in\\mathbf{R}^2$. \n",
    "\n",
    "The true coefficients are \n",
    "$$\n",
    "\\alpha_0 = [1, 2, 3], \\qquad \\beta_0 = [1, -1].\n",
    "$$"
   ]
  },
  {
   "cell_type": "code",
   "execution_count": null,
   "metadata": {},
   "outputs": [],
   "source": [
    "# Set dimensions of the data\n",
    "T = 100;\n",
    "J = 3;\n",
    "\n",
    "# Generate example data and calculate conditional choice probabilities \n",
    "X = randn((T, J, 2))\n",
    "mu = zeros((T, J))\n",
    "for j in 1:(J )\n",
    "    mu[:, j] = j .+ X[:, j, :] * [1, -1]\n",
    "end\n",
    "mu = exp.(mu)\n",
    "CCP = mu ./ (1 .+ sum(mu, dims = 2));"
   ]
  },
  {
   "cell_type": "markdown",
   "metadata": {},
   "source": [
    "We will attempt to recover these via the mass transport approach where we select the true distribution of the latent utility shocks ($\\varepsilon \\sim $T1EV)."
   ]
  },
  {
   "cell_type": "code",
   "execution_count": null,
   "metadata": {},
   "outputs": [],
   "source": [
    "# Define error distribution (T1EV)\n",
    "Q = GeneralizedExtremeValue(-0.57721, 1, 0)\n",
    "\n",
    "# Estimate and benchmark the mass transport problem\n",
    "@btime mta_fit = myMTA(CCP, X, Q; S = 100);"
   ]
  },
  {
   "cell_type": "markdown",
   "metadata": {},
   "source": [
    "The estimated intercepts are reasonably aligned with $\\alpha_0$,"
   ]
  },
  {
   "cell_type": "code",
   "execution_count": null,
   "metadata": {},
   "outputs": [],
   "source": [
    "# Check the intercept coefficients\n",
    "α_hat = mta_fit.α"
   ]
  },
  {
   "cell_type": "markdown",
   "metadata": {},
   "source": [
    "Similarly, the slope coefficients are accurately estimated."
   ]
  },
  {
   "cell_type": "code",
   "execution_count": null,
   "metadata": {},
   "outputs": [],
   "source": [
    "β_hat = mta_fit.β"
   ]
  }
 ],
 "metadata": {
  "kernelspec": {
   "display_name": "Julia 1.6.3",
   "language": "julia",
   "name": "julia-1.6.3"
  },
  "language_info": {
   "file_extension": ".jl",
   "mimetype": "application/julia",
   "name": "julia",
   "version": "1.6.3"
  }
 },
 "nbformat": 4,
 "nbformat_minor": 4
}
