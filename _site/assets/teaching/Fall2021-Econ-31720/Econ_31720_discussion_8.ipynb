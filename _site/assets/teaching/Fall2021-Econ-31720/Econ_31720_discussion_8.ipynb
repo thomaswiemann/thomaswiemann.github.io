{
 "cells": [
  {
   "cell_type": "markdown",
   "metadata": {
    "slideshow": {
     "slide_type": "slide"
    }
   },
   "source": [
    "# Partial Identification of Marginal Treatment Response Functions\n",
    "\n",
    "\n",
    "\n"
   ]
  },
  {
   "cell_type": "markdown",
   "metadata": {},
   "source": [
    "_Thomas Wiemann_\n",
    "\n",
    "_TA Discussion \\# 8_  \n",
    "_ECON 31720_  \n",
    "\n",
    "_December 1, 2021_  "
   ]
  },
  {
   "cell_type": "markdown",
   "metadata": {
    "slideshow": {
     "slide_type": "skip"
    }
   },
   "source": [
    "## Section 0: Preliminaries\n",
    "This notebook provides and introduction to the methodology introduced in Mogstad, Santos, and Torgovitsky (2018). As a numerical illustration, the example in Mogstad and Torgovitsky (2018) is partially reproduced.\n",
    "\n",
    "The code can be downloaded via this [link](https://thomaswiemann.com/assets/teaching/Fall2021-Econ-31720/Econ_31720_discussion_8.ipynb)."
   ]
  },
  {
   "cell_type": "code",
   "execution_count": 1,
   "metadata": {
    "slideshow": {
     "slide_type": "skip"
    }
   },
   "outputs": [],
   "source": [
    "# Load custom package for basis functions. If not yet installed, run the following:\n",
    "#    ``using Pkg; Pkg.add(PackageSpec(url=\"https://github.com/thomaswiemann/MyMethods.jl\")))``.\n",
    "using MyMethods\n",
    "\n",
    "# Load additional dependencies\n",
    "using LinearAlgebra, Statistics\n",
    "using JuMP, GLPK # for linear optimization\n",
    "using Plots, LaTeXStrings # for plots"
   ]
  },
  {
   "cell_type": "markdown",
   "metadata": {},
   "source": [
    "## Section 1: Introduction\n",
    "\n",
    "Consider the canonical potential outcome framework given by\n",
    "\\begin{align}\n",
    "\\begin{aligned}\n",
    "    Y &= DY(1) + (1 - D)Y(0), \\\\\n",
    "    D &= \\mathbf{1}\\{U \\leq \\nu(Z)\\},\n",
    "\\end{aligned}\n",
    "\\end{align}\n",
    "where $D\\in\\{0, 1\\}$, $Y\\in\\mathbf{R}$ is the realized outcome and $Y(d)$ are the potential outcomes, $U\\in\\mathbf{R}$ is a continuously distributed latent variable, $\\nu$ is an unknown function, and $Z$ are instruments satisfying $Y(0), Y(1), U \\perp Z$.\n",
    "\n",
    "Recall that in this setting with additively separable and continuously distributed $U$, the selection equation can be normalized to \n",
    "\\begin{align}\n",
    "\\begin{aligned}\n",
    "    D &= \\mathbf{1}\\{\\tilde{U} \\leq p(Z)\\},\n",
    "\\end{aligned}\n",
    "\\end{align}\n",
    "where $\\tilde{U}\\sim \\mathcal{U}(0,1)$ and $p(Z) := P(D = 1\\vert Z)$ is the propensity score. For ease of exposition (and with abuse of notation), just redefine $U := \\tilde{U}$.\n",
    "\n",
    "The marginal treatment effect (MTE) can then be defined as\n",
    "\\begin{align}\n",
    "\\begin{aligned}\n",
    "    \\operatorname{MTE}(u) := E\\left[Y(1) - Y(0) \\vert U = u\\right].\n",
    "\\end{aligned}\n",
    "\\end{align}\n",
    "\n",
    "It is sometimes convenient to define additional parameters: the marginal treatment response (MTR) functions. These are given by\n",
    "\\begin{align}\n",
    "\\begin{aligned}\n",
    "    &m_d(u) := E\\left[Y(d)\\vert U = u\\right], \\quad d \\in \\{0,1\\},\\\\\n",
    "    \\Rightarrow \\qquad & \\operatorname{MTE}(u) =m_1(u) - m_0(u).\n",
    "\\end{aligned}\n",
    "\\end{align}\n",
    "\n",
    "Notice that there exists unobserved treatment heterogeneity if and only if the MTE($u$) is non-constant."
   ]
  },
  {
   "cell_type": "markdown",
   "metadata": {
    "slideshow": {
     "slide_type": "slide"
    }
   },
   "source": [
    "## Section 2: Data Generating Process\n",
    "\n",
    "To fix ideas, consider the numerical example in Mogstad and Torgovitsky (2018) with a binary outcome $Y$ and treatment $D$, and discrete instrument $Z$. \n",
    "\n",
    "Let the instrument $Z$ be such that $P(Z = z) = \\frac{1}{4}, z \\in \\{1, 2, 3, 4\\}$. Let the propensity score $p(z) := P(D=1\\vert Z = z)$ be given by\n",
    "\\begin{align*}\n",
    "    p(1) = 0.12, \\quad p(2) = 0.29, \\quad p(3) = 0.48, \\quad \\textrm{and} \\quad p(4) = 0.78.\n",
    "\\end{align*}\n",
    "\n",
    "To generate the distribution of $Y$, consider the MTR functions defined by \n",
    "\\begin{align*}\n",
    "    \\begin{aligned}\n",
    "        m_0(u) = 0.9 - 1.1u + 0.3u^2 \\quad \\textrm{and} \\quad  m_1(u)=0.35 - 0.3u - 0.05u^2.\n",
    "    \\end{aligned}\n",
    "\\end{align*}\n",
    "This implies an MTE given by \n",
    "\\begin{align*}\n",
    "    m_1(u) - m_0(u) = -0.55 + 0.9u - 0.35^2.\n",
    "\\end{align*}\n",
    "\n",
    "The below code simulates from this data generating process (DGP) and plots the MTR pair and corresponding MTE. This is a reproduction of Figure 1 in Mogstad and Torgovitsky (2018)."
   ]
  },
  {
   "cell_type": "code",
   "execution_count": 2,
   "metadata": {
    "slideshow": {
     "slide_type": "slide"
    }
   },
   "outputs": [],
   "source": [
    "# Simulate from DGP\n",
    "\n",
    "# Set number of draws from U for integral computation\n",
    "nMC = 10000\n",
    "\n",
    "# Define Z and p as in the paper\n",
    "Z = collect(1:4)\n",
    "p = [0.12, 0.29, 0.48, 0.78]\n",
    "\n",
    "# Draw from U for integral computation\n",
    "u = collect(1:nMC)./(nMC+1)#rand(N)\n",
    "ind_1 = reduce(hcat, map(u -> u .<= p,u))' # 1{u <= P(z)}\n",
    "\n",
    "# MTRs\n",
    "m0 = 0.9 .- 1.1u .+ 0.3u.^2;\n",
    "m1 = 0.35 .- 0.3u .- 0.05u.^2;"
   ]
  },
  {
   "cell_type": "code",
   "execution_count": 3,
   "metadata": {},
   "outputs": [
    {
     "data": {
      "image/png": "[encoded data removed]"
     },
     "execution_count": 3,
     "metadata": {},
     "output_type": "execute_result"
    }
   ],
   "source": [
    "# Initialize plot\n",
    "pyplot(size=(500,300), leg=true);\n",
    "\n",
    "# Plot parameters\n",
    "plt=plot(u, m1, line = (:line, :line, 1, 1, :orange), label=L\"$m_1(u)$\")\n",
    "plot!(u, m0, line = (:line, :line, 1, 1, :green), label=L\"$m_0(u)$\")\n",
    "plot!(u, m1 - m0, line = (:line, :line, 1, 1, :blue), label=L\"$m_1(u) - m_0(u)$\")\n",
    "\n",
    "# Additional formatting\n",
    "plot!(ylim=[-1,1], yticks = -1:0.2:1, xticks = 0:0.1:1, \n",
    "    legend=(0.69,0.675), framestyle = :box, grid=false, \n",
    "    background_color_legend = nothing)\n",
    "ylabel!(\"Parameter value\")\n",
    "xlabel!(\"Unobserved heterogeneity in treatment choice \"*L\"$(u)$\")"
   ]
  },
  {
   "cell_type": "markdown",
   "metadata": {
    "slideshow": {
     "slide_type": "slide"
    }
   },
   "source": [
    "## Section 3: Parameter and Estimand Weights\n",
    "\n",
    "Suppose the parameter of interest is the ATT defined by $E[Y(1) - Y(0)\\vert D = 1]$. Notice that conventionally considered estimands (e.g., the IV slope) don't identify the ATT in this setting with treatment effect heterogeneity.\n",
    "\n",
    "\n",
    "To better understand identification of our target parameter, it is useful to express the ATT as a linear function of the MTR pair $m:=(m_1, m_0) \\in \\mathcal{M}$. Following Heckman and Vytacil (2005), we can express many commonly considered target parameters -- including the ATT -- as linear functions of the MTR pair $m:=(m_1, m_0) \\in \\mathcal{M}$. In particular, for such a target parameter $\\beta^*$, we have\n",
    "\\begin{align} \n",
    "\\begin{aligned}\n",
    "    \\beta^{*} = \\Gamma^{*}(m) := E\\left[\\int_0^1 m_1(u) \\omega_1^{*}(u, Z)du\\right] + E\\left[\\int_0^1 m_0(u) \\omega_0^{*}(u, Z)du\\right], \n",
    "\\end{aligned}\n",
    "\\end{align}\n",
    "where $\\omega_d^{*}$ are identified weights corresponding to the specific parameter of interest. Expression of the weights can be found in Tables 1-4 of Heckman and Vytacil (2005) or Table 1 of Mogstad and Torgovitsky (2018). \n",
    "\n",
    "In the case of the ATT, $\\omega_d^{ATT}$ is given by\n",
    "\\begin{align}\n",
    "    \\omega_1^{ATT}(u, z) = \\frac{\\mathbf{1}\\{u \\leq p(z)\\}}{P(D = 1)} \\quad \\textrm{and} \\quad \\omega_0^{ATT}(u, z) =  -\\omega_0^{ATT}(u, z).\n",
    "\\end{align}\n",
    "Identification of the ATT thus corresponds to identification of the MTR pair $m$. \n",
    "\n",
    "The following code snippit calculates the (identified) population weights of the ATT and the corresponding ATT (which is unidentified without knowledge of $m$)."
   ]
  },
  {
   "cell_type": "code",
   "execution_count": 4,
   "metadata": {},
   "outputs": [
    {
     "name": "stdout",
     "output_type": "stream",
     "text": [
      "-0.368"
     ]
    }
   ],
   "source": [
    "# Get ATT weights\n",
    "w1_ATT = ind_1 ./ mean(p)\n",
    "w0_ATT = -w1_ATT;\n",
    "\n",
    "# Calculate the implied ATT\n",
    "b_ATT = mean(w1_ATT .* m1) + mean(w0_ATT .* m0)\n",
    "print(round(b_ATT, digits = 3))"
   ]
  },
  {
   "cell_type": "markdown",
   "metadata": {
    "slideshow": {
     "slide_type": "slide"
    }
   },
   "source": [
    "The ATT is not identified if the MTR pair $m$ is not identified, but not all is lost. To make headway, Mogstad and Torgovitsky (2018) consider restriction on the set of pairs $m$ implied by the insight that IV-like estimands can also be expressed as linear functions of $m$. \n",
    "\n",
    "For an IV-like estimand $\\beta_s$, we have\n",
    "\\begin{align}\n",
    "\\begin{aligned}\n",
    "    \\beta_s = \\Gamma_s(m) := E\\left[\\int_0^1 m_1(u, Z) \\omega_{1s}(u)du\\right] + E\\left[\\int_0^1 m_0(u) \\omega_{0s}(u, Z)du\\right], \\\\\n",
    "\\end{aligned}\n",
    "\\end{align}\n",
    "where $\\omega_{1s}(u) = s(1, z)\\mathbf{1}\\{u > p(z)\\}$ and $\\omega_{0s}(u) = s(0, z)\\mathbf{1}\\{u \\leq p(z)\\}$, for a known measurable function $s$. Table 3 of Mogstad and Torgovitsky (2018) provides the weights for common IV-like estimands.\n",
    "\n",
    "In the setting of our numerical example, consider the IV and TSLS slope coefficients as two available estimands.\n",
    "\n",
    "For $\\beta_{IV}$, we have\n",
    "\\begin{align}\n",
    "\\begin{aligned}\n",
    "\\beta_{IV} = \\frac{Cov(Y, Z)}{Cov(D, Z)}, \\quad \\textrm{and} \\quad s_{IV}(d, z) = \\frac{z - E[Z]}{Cov(D,Z)},\n",
    "\\end{aligned}\n",
    "\\end{align}\n",
    "where $Z$ is a scalar instrument. \n",
    "\n",
    "For the $j$th comopnent of $\\beta_{TSLS}$, we have\n",
    "\\begin{align}\n",
    "\\begin{aligned}\n",
    "\\beta^{(j)}_{TSLS} = e_j^\\top\\left(\\Pi E[ZX^\\top] \\right)^{-1}\\left(\\Pi E[ZY]\\right), \\quad \\textrm{and} \\quad s_{IV}(d, z) = e_j^\\top\\left(\\Pi E[ZX^\\top] \\right)^{-1}\\left(\\Pi Z\\right),\n",
    "\\end{aligned}\n",
    "\\end{align}\n",
    "where $\\Pi := E[X Z^\\top]E[ZZ^\\top]^{-1}$ and $Z$ is a vector.\n",
    "\n",
    "The below code snippit calculates the (identified) population weights as well as the implied (identified) slope coefficients."
   ]
  },
  {
   "cell_type": "code",
   "execution_count": 5,
   "metadata": {},
   "outputs": [
    {
     "name": "stdout",
     "output_type": "stream",
     "text": [
      "(b_IV = -0.275, b_TSLS = -0.269)"
     ]
    }
   ],
   "source": [
    "# Compute \\beta_s\n",
    "\n",
    "# IV slope\n",
    "Cov_DZ = 0.25 *(sum(Z.*p)) - mean(p)*mean(Z) # Define population moments\n",
    "s_IV = ((Z .- mean(Z))./Cov_DZ)' # s(d,z)\n",
    "w1_IV = s_IV .* ind_1 # weight for d = 1\n",
    "w0_IV = s_IV .* (1 .- ind_1) # weight for d = 0\n",
    "b_IV = mean(w1_IV .* m1) + mean(w0_IV .* m0); # implied IV slope in DGP\n",
    "\n",
    "# TSLS slope\n",
    "ZD = hcat(ones(4)*0.25, 0.25.*p)' # Define population moments\n",
    "inv_ZZ = I.*4\n",
    "FS = inv_ZZ * ZD # first stage\n",
    "s_TSLS = (inv(FS * ZD') * ZD * inv_ZZ)[2,:]' # s(d,z)\n",
    "w1_TSLS = s_TSLS .* ind_1 # weight for d = 1\n",
    "w0_TSLS = s_TSLS .* (1 .- ind_1) # weight for d = 0\n",
    "b_TSLS = mean(w1_TSLS .* m1) + mean(w0_TSLS .* m0); # implied IV slope in DGP\n",
    "\n",
    "# Print \\beta_s\n",
    "print((b_IV=round(b_IV, digits = 3), b_TSLS=round(b_TSLS, digits = 3)))"
   ]
  },
  {
   "cell_type": "markdown",
   "metadata": {
    "slideshow": {
     "slide_type": "slide"
    }
   },
   "source": [
    "## Section 4: From $\\beta_s$ to $\\beta^*$\n",
    "\n",
    "Mogstad, Santos, and Torgovitsky (2018) show how known estimands can be leveraged to place restrictions on the MTR pairs. Because target parameters like the ATT are linear functions of the MTRs, restrictions on the latter can be translated to restrictions on the target parameter in a straightforward manner.\n",
    "\n",
    "Define the set of MTRs consistent with the data as\n",
    "\\begin{align}\n",
    "    \\begin{aligned}\n",
    "        \\mathcal{M}_\\mathcal{S} := \\{m \\in \\mathcal{M}: \\, \\Gamma_s(m) = \\beta_s \\, \\forall s \\in \\mathcal{S}\\},\n",
    "    \\end{aligned}\n",
    "\\end{align}\n",
    "where $\\mathcal{S}$ is the set of considered estimands, and the set of MTR paris $m := (m_1, m_0) \\in \\mathcal{M}$ may incorporate additional restrictions (derived from economic theory).\n",
    "\n",
    "\n",
    "Then the set of values of the target parameter $\\beta^*$ that is consistent with MTR functions that could have generated the data is given by \n",
    "\\begin{align}\n",
    "    \\begin{aligned}\n",
    "        \\mathcal{B}^*_\\mathcal{S} := \\{b \\in \\mathbf{R}: \\, \\exists m \\in \\mathcal{M}_\\mathcal{S} \\textrm{ s.t. } b = \\Gamma^*(m)\\}.\n",
    "    \\end{aligned}\n",
    "\\end{align}\n",
    "\n",
    "When $\\mathcal{B}^*_\\mathcal{S}$ is a closed interval, bounds on $\\beta^*$ can be solved for by\n",
    "\\begin{align}\\label{eq_bounds}\n",
    "    \\begin{aligned}\n",
    "        &\\underline{\\beta}^* & := \\inf_{m \\in \\mathcal{M}} \\Gamma^*(m) \\quad \\textrm{subject to} \\quad \\Gamma_s(m) = \\beta_s, \\forall s \\in \\mathcal{S}, \\\\\n",
    "    \\textrm{and} \\qquad &    \\overline{\\beta}^* & := \\sup_{m \\in \\mathcal{M}} \\Gamma^*(m) \\quad \\textrm{subject to} \\quad \\Gamma_s(m) = \\beta_s, \\forall s \\in \\mathcal{S}.\n",
    "    \\end{aligned}\n",
    "\\end{align}"
   ]
  },
  {
   "cell_type": "markdown",
   "metadata": {},
   "source": [
    "## Section 5: Computating the Bounds\n",
    "\n",
    "Note that $\\mathcal{M}$ is generally infinitely dimensional (i.e., there exists no basis with finitely many elements that spans $\\mathcal{M}$). This makes computation of the bounds very difficult.\n",
    "\n",
    "To address this computational problem, assume that $\\mathcal{M}$ is of finite dimension $K_0 + K_1$ with a set of \\textit{known} basis functions $\\{b_{dk}\\}^{K_d}_{k=0}$ for $d = 1, 2$. Every element of this finitely dimensional space of MTR pairs can be represented as a linear combination of the basis functions\n",
    "\\begin{align}\n",
    "    \\begin{aligned}\n",
    "       \\forall (m_1, m_0) \\in \\mathcal{M}, \\: \\exists \\theta \\in \\Theta: \\:  m_d(u) = \\sum_{k=0}^{K_d} \\theta_{dk}b_{dk}(u), \\: d = 1, 2,\n",
    "    \\end{aligned}\n",
    "\\end{align}\n",
    "where $\\Theta$ is the (finitely dimensional) admissible set of coefficients $\\{\\theta_{dk}\\}^{K_d}_{k=0}$ for $d = 1, 2$. \n",
    "\n",
    "To see how this helps with computation, use the basis expansion and simplify $\\Gamma^*(m)$ as follows \n",
    "\\begin{align}\n",
    "    \\begin{aligned}\n",
    "        \\Gamma^*(m) &= E\\left[\\int_0^1 m_1(u) \\omega_1^*(u, Z)du\\right] +E\\left[\\int_0^1 m_0(u) \\omega_0^*(u, Z)du\\right] \\\\\n",
    "        & = E\\left[\\int_0^1 \\sum_{k=0}^{K_1} \\theta_{1k}b_{1k}(u) \\omega_1^*(u, Z)du\\right] +E\\left[\\int_0^1 \\sum_{k=0}^{K_0} \\theta_{0k}b_{0k}(u) \\omega_0^*(u, Z)du\\right] \\\\\n",
    "        & = \\sum_{k=0}^{K_1} \\theta_{1k}E\\left[\\int_0^1 b_{1k}(u)\\omega_1^*(u, Z)du\\right] +  \\sum_{k=0}^{K_0} \\theta_{0k}E\\left[\\int_0^1  b_{0k}(u)\\omega_0^*(u, Z)du\\right] \\\\\n",
    "        & = \\sum_{k=0}^{K_1} \\theta_{1k}\\gamma^*_{1k} +  \\sum_{k=0}^{K_0} \\theta_{0k}\\gamma^*_{0k} = \\sum_{d\\in\\{0,1\\}} \\sum_{k=0}^{K_d} \\theta_{dk}\\gamma^*_{dk},\n",
    "    \\end{aligned}\n",
    "\\end{align}\n",
    "where we have defined $\\gamma^*_{dk} := E\\left[\\int_0^1 b_{dk}(u)\\omega_d^*(u, Z)du\\right]$\n",
    "\n",
    "Similarly we have\n",
    "\\begin{align}\n",
    "    \\begin{aligned}\n",
    "        \\Gamma_s(m) & = \\sum_{d \\in \\{0, 1\\}} \\sum_{k=0}^{K_d} \\theta_{dk} \\gamma_{sdk},\n",
    "    \\end{aligned}\n",
    "\\end{align}\n",
    "where $\\gamma_{sdk} := \\left[\\int_0^1 b_{dk}(u)\\omega_{ds}(u, Z)du\\right]$.\n",
    "\n",
    "Then the bounds simplify to \n",
    "\\begin{align}\n",
    "    \\begin{aligned}\n",
    "      &  \\underline{\\beta}^* & := \\inf_{\\theta \\in \\Theta} \\sum_{d\\in\\{0,1\\}} \\sum_{k=0}^{K_d} \\theta_{dk}\\gamma^*_{dk} \\quad \\textrm{subject to} \\quad \\sum_{d \\in \\{0, 1\\}} \\sum_{k=0}^{K_d} \\theta_{dk} \\gamma_{sdk} = \\beta_s, \\forall s \\in \\mathcal{S}, \\\\\n",
    "       \\textrm{and} \\qquad &       \\overline{\\beta}^* & := \\sup_{\\theta \\in \\Theta} \\sum_{d\\in\\{0,1\\}} \\sum_{k=0}^{K_d} \\theta_{dk}\\gamma^*_{dk} \\quad \\textrm{subject to} \\quad \\sum_{d \\in \\{0, 1\\}} \\sum_{k=0}^{K_d} \\theta_{dk} \\gamma_{sdk} = \\beta_s, \\forall s \\in \\mathcal{S}.\n",
    "    \\end{aligned}\n",
    "\\end{align}\n",
    "\n",
    "So for each bound we solve a linear program for $K_0 + K_1$ coefficients. These can be solved reliably using conventional linear optimization methods."
   ]
  },
  {
   "cell_type": "markdown",
   "metadata": {},
   "source": [
    "## Section 6: Implementation in Julia\n",
    "\n",
    "The below code snippit defines a function ``get_gamma`` that takes a matrix where the $K+1$ columns correspond to basis expansions of degree $K$ evaluated at at a value of $u$, with rows corresponding to different values of $u \\in [0, 1]$. Similarly, ``w1`` and ``w0`` are vectors of the weights corresponding to different values of $u$. If the values of $u$ are evenly spaced in the integral $[0, 1]$, the $\\gamma$ terms can easily be computed via numerical integration by averaging each column across rows. "
   ]
  },
  {
   "cell_type": "code",
   "execution_count": 6,
   "metadata": {},
   "outputs": [
    {
     "data": {
      "text/plain": [
       "get_gamma (generic function with 1 method)"
      ]
     },
     "execution_count": 6,
     "metadata": {},
     "output_type": "execute_result"
    }
   ],
   "source": [
    "# function to get gammas\n",
    "function get_gamma(B, w1, w0)\n",
    "    Bw1 = B .* mapslices(mean, w1, dims=2)\n",
    "    Bw0 = B .* mapslices(mean, w0, dims=2)\n",
    "    return mapslices(mean, Bw1, dims=1), mapslices(mean, Bw0, dims=1)\n",
    "end"
   ]
  },
  {
   "cell_type": "markdown",
   "metadata": {},
   "source": [
    "The below function ``get_bound`` computes the bound $\\overline{\\beta}^{ATT}$ (or $\\underline{\\beta}^{ATT}$ when ``sense=\"Min\"``) given population estimands ``b_IV`` and ``b_TSLS`` as well as the identified $\\gamma$ values corresponding to the estimands and the parameter of interest. The function further allows to impose a functional form assumption on the MTR pair. If ``decreasing=false``, then the MTR functions are constrained to be decreasing in $u$."
   ]
  },
  {
   "cell_type": "code",
   "execution_count": 7,
   "metadata": {},
   "outputs": [
    {
     "data": {
      "text/plain": [
       "get_bound (generic function with 1 method)"
      ]
     },
     "execution_count": 7,
     "metadata": {},
     "output_type": "execute_result"
    }
   ],
   "source": [
    "# Function to obtain lower/upper bound for ATT given IV and TSLS slope\n",
    "function get_bound(b_IV, b_TSLS,\n",
    "        gamma_1IV, gamma_0IV,\n",
    "        gamma_1TSLS, gamma_0TSLS,\n",
    "        gamma_1ATT, gamma_0ATT;\n",
    "        sense=\"Max\", decreasing=false)\n",
    "    # Data parameters\n",
    "    K = length(gamma_1IV) -1\n",
    "    \n",
    "    # initialize model\n",
    "    m = Model(GLPK.Optimizer)\n",
    "\n",
    "    # initialize variables\n",
    "    @variable(m, 1 >= theta[1:(K+1), 1:2] >= 0) # bounded by 0 and 1\n",
    "\n",
    "    # set constraints\n",
    "    @constraint(m, IV, sum(theta[:,1].*gamma_1IV') +\n",
    "        sum(theta[:,2].*gamma_0IV')  == b_IV)\n",
    "    @constraint(m, TSLS, sum(theta[:,1].*gamma_1TSLS') +\n",
    "        sum(theta[:,2].*gamma_0TSLS') == b_TSLS)\n",
    "    \n",
    "    # Restrict to decreasing MTRs\n",
    "    if decreasing\n",
    "        @constraint(m, decreasing[j=1:K,s=1:2], theta[j,s] >= theta[j+1,s])\n",
    "    end\n",
    "\n",
    "    # define objective \n",
    "    if sense == \"Max\"\n",
    "    @objective(m, Max, sum(theta[:,1].*gamma_1ATT') +\n",
    "            sum(theta[:,2].*gamma_0ATT')) # upper bound\n",
    "    elseif sense == \"Min\"\n",
    "     @objective(m, Min, sum(theta[:,1].*gamma_1ATT') +\n",
    "        sum(theta[:,2].*gamma_0ATT')) # upper bound\n",
    "    end\n",
    "\n",
    "    # solve model\n",
    "    MOI.set(m, MOI.Silent(), true)\n",
    "    optimize!(m)\n",
    "    bound = objective_value(m)\n",
    "    \n",
    "    # Return bound\n",
    "    return bound\n",
    "end"
   ]
  },
  {
   "cell_type": "markdown",
   "metadata": {},
   "source": [
    "## Section 7: Two Useful Basis Expansions\n",
    "\n",
    "For computation of the bounds in practice, researchers must also specify the basis functions. Two sets of basis functions appear particularly appealing: Bernstein polynomials and, in some cases, constant splines.\n",
    "\n",
    "**Bernstein Polynomials**\n",
    "\n",
    "For flexible parametric specification of the MTR pairs, researchers can consider Bernstein polynomials of degree $K$, whose basis functions are $b_k^K: [0, 1] \\to \\mathbf{R}$ such that \n",
    "\\begin{align}\n",
    "b_k^K(u) =  \\begin{pmatrix}\n",
    "            K \\\\ k\n",
    "        \\end{pmatrix}u^k (1 - u)^{K-k}, \\quad \\forall k = 0, \\ldots, K.\n",
    "\\end{align} \n",
    "Bernstein polynomials are particularly convenient because key economically relevant functional form restrictions for the MTRs can readily be imposed via linear constraints on $\\Theta$.\n",
    "\n",
    "Let $\\{\\theta_{dk}\\}_{k=0}^{K_d}$, denote the coefficients corresponding to a Bernstein polynomial expansion of $m_d$ of degree $K$. Several nonparametric shape restrictions on $m_d$ can then be imposed as follows:\n",
    "- $\\theta_{dk} \\geq 0, \\: \\forall k \\in \\{0, \\ldots, K\\}\\quad  \\Rightarrow \\quad m_d \\geq 0$;\n",
    "- $\\theta_{dk} \\leq 1, \\: \\forall k \\in \\{0, \\ldots, K\\}\\quad  \\Rightarrow \\quad m_d \\leq 1$;\n",
    "- $\\theta_{dk} \\leq \\theta_{dk+1}, \\: \\forall k \\in \\{0, \\ldots, K-1\\}\\quad  \\Rightarrow \\quad m_d  $ is monotonically increasing;\n",
    "- $\\theta_{dk} - 2\\theta_{dk+1} + \\theta_{dk+2}, \\: \\forall k \\in \\{0, \\ldots, K-2\\}\\quad  \\Rightarrow \\quad m_d  $ is concave.\n",
    "\n",
    "**Constant Splines**\n",
    "\n",
    "When $Z$ has discrete support and the weight functions $\\omega^*(u, z)$ for the target parameter are piecewise constant, a constant spline basis can be leveraged for computation of nonparametric bounds.\n",
    "\n",
    "Let $\\{\\mathcal{U}_k\\}_{k=0}^K$ be a partition of $[0,1]$ such that $\\omega_d^*(u, z)$ and $\\mathbf{1}\\{u \\leq p(z)\\}$ are constant in $u$ on each $\\mathcal{U}_k$. Then define the constant spline basis as $b_k: [0, 1] \\to \\mathbf{R}$ such that\n",
    "\\begin{align}\n",
    "          b_{k}(u) = \\mathbf{1}\\{u \\in \\mathcal{U}_k\\}, \\quad \\forall k = 0, \\ldots, K.\n",
    "\\end{align}\n",
    "    \n",
    "In contrast to using a flexible parametric specification (e.g., Bernstein polynomials of degree $K$), the resulting bounds are equivalent to the bounds prior to imposing a finite dimensional structure on $\\mathcal{M}$."
   ]
  },
  {
   "cell_type": "markdown",
   "metadata": {},
   "source": [
    "## Section 8: Application to the Numerical Example"
   ]
  },
  {
   "cell_type": "markdown",
   "metadata": {},
   "source": [
    "We can now put things to practice. This section computes bounds for the ATT in the DGP of Section 1 given the population estimands ``b_IV`` and ``b_TSLS`` defined in Section 2. To illustrate the tradeoff between parametric assumptions and strength of the conclusions, bounds are calculated using both a flexible parametric specification using Bernstein polynomials of various degrees as well as using constant splines. The nonparametric shape restriction of decreasing MTRs is also considered.\n",
    "\n",
    "The below code computes the bounds using Bernstein polynomial expensions of various degrees with and without restricting the MTRs to be decreasing in $u$. The Bernstein polynomial basis are implemented in the ``MyMethods`` package ([GitHub link](https://github.com/thomaswiemann/MyMethods.jl/blob/main/src/FUN/mySieve.jl))."
   ]
  },
  {
   "cell_type": "code",
   "execution_count": 8,
   "metadata": {},
   "outputs": [],
   "source": [
    "# Compute bounds with flexible parametric specification\n",
    "\n",
    "# Compute bounds for different polynomial degrees\n",
    "p_bounds = zeros(2, 2, 19)\n",
    "for k in 1:19\n",
    "    # Get Bernstein poly basis terms and compute the gamma\n",
    "    Bernstein = MyMethods.get_basis(u, \"Bernstein\", k, nothing)\n",
    "    gamma_1IV, gamma_0IV = get_gamma(Bernstein, w1_IV, w0_IV)\n",
    "    gamma_1TSLS, gamma_0TSLS = get_gamma(Bernstein, w1_TSLS, w0_TSLS)\n",
    "    gamma_1ATT, gamma_0ATT = get_gamma(Bernstein, w1_ATT, w0_ATT)\n",
    "\n",
    "    # Compute the parametric bounds\n",
    "    for dec in (false,true)\n",
    "        # lower bound\n",
    "        p_bounds[dec+1, 1, k] = get_bound(b_IV, b_TSLS,\n",
    "                gamma_1IV, gamma_0IV,\n",
    "                gamma_1TSLS, gamma_0TSLS,\n",
    "                gamma_1ATT, gamma_0ATT,\n",
    "                sense = \"Min\", decreasing = dec)\n",
    "\n",
    "        # upper bound\n",
    "        p_bounds[dec+1, 2, k] = get_bound(b_IV, b_TSLS,\n",
    "                gamma_1IV, gamma_0IV,\n",
    "                gamma_1TSLS, gamma_0TSLS,\n",
    "                gamma_1ATT, gamma_0ATT,\n",
    "                sense = \"Max\", decreasing = dec)\n",
    "    end\n",
    "end"
   ]
  },
  {
   "cell_type": "markdown",
   "metadata": {},
   "source": [
    "Since $Z$ has discrete support, the nonparametric bounds can be computed using an appropriate constant spline basis. As before, the basis functions are implemented in the ``MyMethods`` package. "
   ]
  },
  {
   "cell_type": "code",
   "execution_count": 9,
   "metadata": {},
   "outputs": [],
   "source": [
    "# Compute nonparametric bounds\n",
    "\n",
    "# Get constant splines (indicator specificaton) and compute the gamma\n",
    "CSplines = MyMethods.get_basis(u, \"CSplines2\", 3, p)[:,1:4] \n",
    "gamma_1IV, gamma_0IV = get_gamma(CSplines, w1_IV, w0_IV)\n",
    "gamma_1TSLS, gamma_0TSLS = get_gamma(CSplines, w1_TSLS, w0_TSLS)\n",
    "gamma_1ATT, gamma_0ATT = get_gamma(CSplines, w1_ATT, w0_ATT)\n",
    "\n",
    "# Compute the nonparametric bounds\n",
    "np_bounds = zeros(2,2)\n",
    "for dec in (false,true)\n",
    "    # lower bound\n",
    "    np_bounds[dec+1, 1] = get_bound(b_IV, b_TSLS,\n",
    "            gamma_1IV, gamma_0IV,\n",
    "            gamma_1TSLS, gamma_0TSLS,\n",
    "            gamma_1ATT, gamma_0ATT,\n",
    "            sense = \"Min\", decreasing = dec)\n",
    "    \n",
    "    # upper bound\n",
    "    np_bounds[dec+1, 2] = get_bound(b_IV, b_TSLS,\n",
    "            gamma_1IV, gamma_0IV,\n",
    "            gamma_1TSLS, gamma_0TSLS,\n",
    "            gamma_1ATT, gamma_0ATT,\n",
    "            sense = \"Max\", decreasing = dec)\n",
    "end\n",
    "\n",
    "# cast np_bounds to dimension of p_bounds\n",
    "np_bounds = reshape(repeat(np_bounds, 19)', (2, 2, 19)); "
   ]
  },
  {
   "cell_type": "markdown",
   "metadata": {},
   "source": [
    "The results are visualized in the below figure. This reproduces Figure 6 of Mogstad and Torgovistky (2018)."
   ]
  },
  {
   "cell_type": "code",
   "execution_count": 10,
   "metadata": {},
   "outputs": [
    {
     "data": {
      "image/png": "[encoded data removed]"
     },
     "execution_count": 10,
     "metadata": {},
     "output_type": "execute_result"
    }
   ],
   "source": [
    "# Plot the bounds\n",
    "\n",
    "# Initialize plot\n",
    "pyplot(size=(500,300), leg=true);\n",
    "_x = collect(1:19)\n",
    "\n",
    "# ATT \n",
    "plt=plot(_x,ones(19)*b_ATT, line = (:line, :dot, 0.8, 1, :black), label=\"\")\n",
    "plot!(_x,ones(19)*b_ATT, seriestype = :scatter, markershape=:star5, markersize=4, color=:black, label=\"\")\n",
    "annotate!((19.24,-0.325, text(\"ATT\", :black, :right, 8)))\n",
    "\n",
    "# parametric bounds\n",
    "plot!(_x, p_bounds[1,1,:], line = (:line, :line, 0.8, 1, :blue), label = \"Polynomial\")\n",
    "plot!(_x, p_bounds[1,1,:], seriestype = :scatter, markershape=:circle, markersize=4, color=:blue, label=\"\")\n",
    "plot!(_x, p_bounds[1,2,:], line = (:line, :line, 0.8, 1, :blue), label=\"\")\n",
    "plot!(_x, p_bounds[1,2,:], seriestype = :scatter, markershape=:circle, markersize=4, color=:blue, label=\"\")\n",
    "\n",
    "# nonparametric bounds\n",
    "plot!(_x, np_bounds[1,1,:], line = (:line, :dot, 0.8, 1, :blue), label=\"Nonparametric\")\n",
    "plot!(_x, np_bounds[1,1,:], seriestype = :scatter, markershape=:circle, markersize=4, color=:blue, label=\"\")\n",
    "plot!(_x, np_bounds[2,1,:], line = (:line, :dot, 0.8, 1, :blue), label=\"\")\n",
    "plot!(_x, np_bounds[2,1,:], seriestype = :scatter, markershape=:circle, markersize=4, color=:blue, label=\"\")\n",
    "\n",
    "# parametric bounds w/ decreasing MTRs\n",
    "plot!(_x, p_bounds[2,1,:], line = (:line, :line, 0.8, 1, :orange), label=\"Polynomial and decreasing\")\n",
    "plot!(_x, p_bounds[2,1,:], seriestype = :scatter, markershape=:rect, markersize=4, color=:orange, label=\"\")\n",
    "plot!(_x, p_bounds[2,2,:], line = (:line, :line, 0.8, 1, :orange), label=\"\")\n",
    "plot!(_x, p_bounds[2,2,:], seriestype = :scatter, markershape=:rect, markersize=4, color=:orange, label=\"\")\n",
    "\n",
    "# nonparametric bounds w/ decreasing MTRs\n",
    "plot!(_x, np_bounds[1,2,:], line = (:line, :dot, 0.8, 1, :orange), label=\"Nonparametric and decreasing\")\n",
    "plot!(_x, np_bounds[1,2,:], seriestype = :scatter, markershape=:rect, markersize=4, color=:orange, label=\"\")\n",
    "plot!(_x, np_bounds[2,2,:], line = (:line, :dot, 0.8, 1, :orange), label=\"\")\n",
    "plot!(_x, np_bounds[2,2,:], seriestype = :scatter, markershape=:rect, markersize=4, color=:orange, label=\"\")\n",
    "\n",
    "# Additional formatting\n",
    "plot!(ylim=[-1,0.25], yticks = -1:0.2:0.4, xticks = 1:1:19, \n",
    "    legend=(0,0), framestyle = :box, grid=false, \n",
    "    background_color_legend = nothing)\n",
    "ylabel!(\"Upper and lower bounds\")\n",
    "xlabel!(\"Polynomial degree \"*L\"$(K_0=K_1\\equiv K)$\")"
   ]
  },
  {
   "cell_type": "markdown",
   "metadata": {},
   "source": [
    "In line with expectations, the bounds from the flexible parametric specifications are always narrower than the nonparametric bounds and widen with increasing degree of the polynomial $K$. The figure also illustrates that nonparametric shape restrictions can contain substantial identifying power, as the bound computed under the restriction of decreasing MTRs are noticeably narrower than their counterparts."
   ]
  },
  {
   "cell_type": "markdown",
   "metadata": {},
   "source": [
    "## Section 9: Estimation\n",
    "\n",
    "Notice that the numerical example in this notebook considered population weights and estimands. In practice, of course, these are typically not available and thus have to be replaced with their sampele analogs -- that is, $\\Gamma^*, \\Gamma_s$, and $\\beta_s$ are point identified but need to be estimated. \n",
    "\n",
    "The estimated bounds can be specified as\n",
    "\\begin{align}\n",
    "    \\begin{aligned}\n",
    "      &  \\hat{\\underline{\\beta}}^* & := \\inf_{\\theta \\in \\Theta} \\sum_{d\\in\\{0,1\\}} \\sum_{k=0}^{K_d} \\theta_{dk}\\hat{\\gamma}^*_{dk} \\quad \\textrm{subject to} \\quad \\sum_{d \\in \\{0, 1\\}} \\sum_{k=0}^{K_d} \\theta_{dk} \\hat{\\gamma}_{sdk} = \\hat{\\beta}_s, \\forall s \\in \\mathcal{S}, \\\\\n",
    "       \\textrm{and} \\qquad &       \\hat{\\overline{\\beta}}^* & := \\sup_{\\theta \\in \\Theta} \\sum_{d\\in\\{0,1\\}} \\sum_{k=0}^{K_d} \\theta_{dk}\\hat{\\gamma}^*_{dk} \\quad \\textrm{subject to} \\quad \\sum_{d \\in \\{0, 1\\}} \\sum_{k=0}^{K_d} \\theta_{dk} \\hat{\\gamma}_{sdk} = \\hat{\\beta}_s, \\forall s \\in \\mathcal{S}.\n",
    "    \\end{aligned}\n",
    "\\end{align}\n",
    "\n",
    "Unfortunately, the linear programs defined above sometimes don't have any feasible solution. This is because the estimated $\\hat{\\beta}_s$ don't necessarily correspond exactly to $\\sum_{d \\in \\{0, 1\\}} \\sum_{k=0}^{K_d} \\theta_{dk} \\hat{\\gamma}_{sdk}$ for any $\\theta \\in \\Theta$ in finite samples (even if they do in the population!). \n",
    "\n",
    "A solution is to select $\\theta$ such that the estimands correspond as closely to $\\hat{\\Gamma}_s$. For this purpose, define\n",
    "\\begin{align}\n",
    "    \\hat{Q}^*_s := \\min_{\\theta \\in \\Theta} \\hat{Q}_s(\\theta) := \\min_{\\theta \\in \\Theta} \\left\\|\\hat{\\beta}_s - \\sum_{d \\in \\{0, 1\\}} \\sum_{k=0}^{K_d} \\theta_{dk} \\hat{\\gamma}_{sdk}\\right\\|,\n",
    "\\end{align}\n",
    "$\\forall s \\in \\mathcal{S}$. Then relax the above estimated bounds as follows:\n",
    "\\begin{align}\n",
    "    \\begin{aligned}\n",
    "      &  \\tilde{\\underline{\\beta}}^* & := \\inf_{\\theta \\in \\Theta} \\sum_{d\\in\\{0,1\\}} \\sum_{k=0}^{K_d} \\theta_{dk}\\hat{\\gamma}^*_{dk} \\quad \\textrm{subject to} \\quad Q_s(\\theta) \\leq \\hat{Q}^*_s, \\forall s \\in \\mathcal{S}, \\\\\n",
    "       \\textrm{and} \\qquad &       \\tilde{\\overline{\\beta}}^* & := \\sup_{\\theta \\in \\Theta} \\sum_{d\\in\\{0,1\\}} \\sum_{k=0}^{K_d} \\theta_{dk}\\hat{\\gamma}^*_{dk} \\quad \\textrm{subject to} \\quad Q_s(\\theta) \\leq \\hat{Q}^*_s, \\forall s \\in \\mathcal{S}.\n",
    "    \\end{aligned}\n",
    "\\end{align}\n",
    "\n",
    "Implementation for these relaxed estimated bounds is a straightforward extension of the functions provided in this notebook.\n",
    "\n",
    "Characterization of the sampling uncertainty for these bounds is challenging. The working paper of Mogstad, Santos, and Torgovitsky (2017) provides a discussion ([NBER link](https://www.nber.org/papers/w23568))."
   ]
  }
 ],
 "metadata": {
  "kernelspec": {
   "display_name": "Julia 1.6.2",
   "language": "julia",
   "name": "julia-1.6"
  },
  "language_info": {
   "file_extension": ".jl",
   "mimetype": "application/julia",
   "name": "julia",
   "version": "1.6.2"
  }
 },
 "nbformat": 4,
 "nbformat_minor": 4
}
