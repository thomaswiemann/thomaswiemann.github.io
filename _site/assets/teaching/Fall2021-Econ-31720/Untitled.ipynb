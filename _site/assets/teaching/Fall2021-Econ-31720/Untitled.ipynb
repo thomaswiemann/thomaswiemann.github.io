{
 "cells": [
  {
   "cell_type": "markdown",
   "metadata": {},
   "source": [
    "# Parallel Computing in Julia"
   ]
  },
  {
   "cell_type": "code",
   "execution_count": 12,
   "metadata": {},
   "outputs": [],
   "source": [
    "using BenchmarkTools\n",
    "using Random, Distributions\n",
    "using Base.Threads\n",
    "using Plots"
   ]
  },
  {
   "cell_type": "code",
   "execution_count": 2,
   "metadata": {},
   "outputs": [
    {
     "name": "stdout",
     "output_type": "stream",
     "text": [
      "Julia Version 1.6.3\n",
      "Commit ae8452a9e0 (2021-09-23 17:34 UTC)\n",
      "Platform Info:\n",
      "  OS: Linux (x86_64-pc-linux-gnu)\n",
      "      Ubuntu 20.04.3 LTS\n",
      "  uname: Linux 5.11.0-38-generic #42~20.04.1-Ubuntu SMP Tue Sep 28 20:41:07 UTC 2021 x86_64 x86_64\n",
      "  CPU: Intel(R) Core(TM) i7-7500U CPU @ 2.70GHz: \n",
      "              speed         user         nice          sys         idle          irq\n",
      "       #1  2900 MHz      42663 s          5 s      20764 s     299429 s          0 s\n",
      "       #2  2900 MHz      44840 s         34 s      22198 s     295360 s          0 s\n",
      "       #3  2900 MHz      46400 s         10 s      18050 s     299443 s          0 s\n",
      "       #4  3499 MHz      44190 s         50 s      20696 s     298480 s          0 s\n",
      "       \n",
      "  Memory: 7.505710601806641 GB (321.60546875 MB free)\n",
      "  Uptime: 36818.0 sec\n",
      "  Load Avg:  0.88  0.96  0.99\n",
      "  WORD_SIZE: 64\n",
      "  LIBM: libopenlibm\n",
      "  LLVM: libLLVM-11.0.1 (ORCJIT, skylake)\n",
      "Environment:\n",
      "  JULIA_NUM_THREADS = 2\n",
      "  WINDOWPATH = 2\n",
      "  HOME = /home/thomas\n",
      "  GEM_HOME = /home/thomas/gems\n",
      "  TERM = xterm-256color\n",
      "  PATH = /home/thomas/gems/bin:/home/thomas/.local/bin:/home/thomas/gems/bin:/home/thomas/.local/bin:/usr/local/sbin:/usr/local/bin:/usr/sbin:/usr/bin:/sbin:/bin:/usr/games:/usr/local/games:/snap/bin:~/Programs/gurobi910/linux64/bin:~/Programs/gurobi910/linux64/bin\n",
      "  FONTCONFIG_PATH = /home/thomas/.julia/artifacts/387d89822da323c098aba6f8ab316874d4e90f2e/etc/fonts\n"
     ]
    }
   ],
   "source": [
    "versioninfo(verbose=true)"
   ]
  },
  {
   "cell_type": "code",
   "execution_count": 3,
   "metadata": {},
   "outputs": [
    {
     "data": {
      "text/plain": [
       "2"
      ]
     },
     "execution_count": 3,
     "metadata": {},
     "output_type": "execute_result"
    }
   ],
   "source": [
    "nthreads()"
   ]
  },
  {
   "cell_type": "markdown",
   "metadata": {},
   "source": [
    "To create a new kernel for the jupyter notebook, run the following. Then restart jupyter notebook."
   ]
  },
  {
   "cell_type": "code",
   "execution_count": null,
   "metadata": {},
   "outputs": [],
   "source": [
    "using IJulia\n",
    "IJulia.installkernel(\"Julia with 2 threads\", env=Dict(\n",
    "    \"JULIA_NUM_THREADS\" => \"2\",\n",
    "))"
   ]
  },
  {
   "cell_type": "code",
   "execution_count": null,
   "metadata": {},
   "outputs": [],
   "source": [
    "nthreads()"
   ]
  },
  {
   "cell_type": "code",
   "execution_count": null,
   "metadata": {},
   "outputs": [],
   "source": [
    "s = zeros(1000)\n",
    "@btime for i in 1:1000\n",
    "    s[i] = i\n",
    "end"
   ]
  },
  {
   "cell_type": "code",
   "execution_count": null,
   "metadata": {},
   "outputs": [],
   "source": [
    "s = zeros(1000)\n",
    "@btime @threads for i in 1:1000\n",
    "    s[i] = i\n",
    "end"
   ]
  },
  {
   "cell_type": "code",
   "execution_count": 58,
   "metadata": {},
   "outputs": [
    {
     "data": {
      "text/plain": [
       "10000"
      ]
     },
     "execution_count": 58,
     "metadata": {},
     "output_type": "execute_result"
    }
   ],
   "source": []
  },
  {
   "cell_type": "code",
   "execution_count": 2,
   "metadata": {},
   "outputs": [
    {
     "data": {
      "text/plain": [
       "sim_GaussMix (generic function with 1 method)"
      ]
     },
     "execution_count": 2,
     "metadata": {},
     "output_type": "execute_result"
    }
   ],
   "source": [
    "function sim_GaussMix(K, nobs)\n",
    "    # Priors\n",
    "    π_prior = Dirichlet(ones(K))\n",
    "    μ_prior = Normal(0, 5)\n",
    "    σ²_prior = InverseGamma(3, 5)\n",
    "    # Simulate parameters\n",
    "    cl_probs = rand(π_prior, 1)[:, 1]\n",
    "    mu_mat = rand(μ_prior, K)\n",
    "    sgm_mat = sqrt.(rand(σ²_prior, K))\n",
    "    # Construct mixture\n",
    "    mymixture = MixtureModel(Normal, [(mu_mat[k], sgm_mat[k]) for k in 1:K], cl_probs)\n",
    "    # Simulate from mixture and return data and mixture\n",
    "    y = rand(mymixture, nobs)\n",
    "    return y, mymixture \n",
    "end"
   ]
  },
  {
   "cell_type": "code",
   "execution_count": 35,
   "metadata": {},
   "outputs": [],
   "source": [
    "K = 4\n",
    "nobs = 10000\n",
    "y, mymixture = sim_GaussMix(K, nobs);"
   ]
  },
  {
   "cell_type": "code",
   "execution_count": 36,
   "metadata": {},
   "outputs": [
    {
     "data": {
      "image/svg+xml": [
       "<?xml version=\"1.0\" encoding=\"utf-8\"?>\n",
       "<svg xmlns=\"http://www.w3.org/2000/svg\" xmlns:xlink=\"http://www.w3.org/1999/xlink\" width=\"600\" height=\"400\" viewBox=\"0 0 2400 1600\">\n",
       "<defs>\n",
       "  <clipPath id=\"clip470\">\n",
       "    <rect x=\"0\" y=\"0\" width=\"2400\" height=\"1600\"/>\n",
       "  </clipPath>\n",
       "</defs>\n",
       "<path clip-path=\"url(#clip470)\" d=\"\n",
       "M0 1600 L2400 1600 L2400 0 L0 0  Z\n",
       "  \" fill=\"#ffffff\" fill-rule=\"evenodd\" fill-opacity=\"1\"/>\n",
       "<defs>\n",
       "  <clipPath id=\"clip471\">\n",
       "    <rect x=\"480\" y=\"0\" width=\"1681\" height=\"1600\"/>\n",
       "  </clipPath>\n",
       "</defs>\n",
       "<path clip-path=\"url(#clip470)\" d=\"\n",
       "M216.436 1486.45 L2352.76 1486.45 L2352.76 47.2441 L216.436 47.2441  Z\n",
       "  \" fill=\"#ffffff\" fill-rule=\"evenodd\" fill-opacity=\"1\"/>\n",
       "<defs>\n",
       "  <clipPath id=\"clip472\">\n",
       "    <rect x=\"216\" y=\"47\" width=\"2137\" height=\"1440\"/>\n",
       "  </clipPath>\n",
       "</defs>\n",
       "<polyline clip-path=\"url(#clip472)\" style=\"stroke:#000000; stroke-linecap:butt; stroke-linejoin:round; stroke-width:2; stroke-opacity:0.1; fill:none\" points=\"\n",
       "  420.361,1486.45 420.361,47.2441 \n",
       "  \"/>\n",
       "<polyline clip-path=\"url(#clip472)\" style=\"stroke:#000000; stroke-linecap:butt; stroke-linejoin:round; stroke-width:2; stroke-opacity:0.1; fill:none\" points=\"\n",
       "  852.478,1486.45 852.478,47.2441 \n",
       "  \"/>\n",
       "<polyline clip-path=\"url(#clip472)\" style=\"stroke:#000000; stroke-linecap:butt; stroke-linejoin:round; stroke-width:2; stroke-opacity:0.1; fill:none\" points=\"\n",
       "  1284.6,1486.45 1284.6,47.2441 \n",
       "  \"/>\n",
       "<polyline clip-path=\"url(#clip472)\" style=\"stroke:#000000; stroke-linecap:butt; stroke-linejoin:round; stroke-width:2; stroke-opacity:0.1; fill:none\" points=\"\n",
       "  1716.71,1486.45 1716.71,47.2441 \n",
       "  \"/>\n",
       "<polyline clip-path=\"url(#clip472)\" style=\"stroke:#000000; stroke-linecap:butt; stroke-linejoin:round; stroke-width:2; stroke-opacity:0.1; fill:none\" points=\"\n",
       "  2148.83,1486.45 2148.83,47.2441 \n",
       "  \"/>\n",
       "<polyline clip-path=\"url(#clip470)\" style=\"stroke:#000000; stroke-linecap:butt; stroke-linejoin:round; stroke-width:4; stroke-opacity:1; fill:none\" points=\"\n",
       "  216.436,1486.45 2352.76,1486.45 \n",
       "  \"/>\n",
       "<polyline clip-path=\"url(#clip470)\" style=\"stroke:#000000; stroke-linecap:butt; stroke-linejoin:round; stroke-width:4; stroke-opacity:1; fill:none\" points=\"\n",
       "  420.361,1486.45 420.361,1467.55 \n",
       "  \"/>\n",
       "<polyline clip-path=\"url(#clip470)\" style=\"stroke:#000000; stroke-linecap:butt; stroke-linejoin:round; stroke-width:4; stroke-opacity:1; fill:none\" points=\"\n",
       "  852.478,1486.45 852.478,1467.55 \n",
       "  \"/>\n",
       "<polyline clip-path=\"url(#clip470)\" style=\"stroke:#000000; stroke-linecap:butt; stroke-linejoin:round; stroke-width:4; stroke-opacity:1; fill:none\" points=\"\n",
       "  1284.6,1486.45 1284.6,1467.55 \n",
       "  \"/>\n",
       "<polyline clip-path=\"url(#clip470)\" style=\"stroke:#000000; stroke-linecap:butt; stroke-linejoin:round; stroke-width:4; stroke-opacity:1; fill:none\" points=\"\n",
       "  1716.71,1486.45 1716.71,1467.55 \n",
       "  \"/>\n",
       "<polyline clip-path=\"url(#clip470)\" style=\"stroke:#000000; stroke-linecap:butt; stroke-linejoin:round; stroke-width:4; stroke-opacity:1; fill:none\" points=\"\n",
       "  2148.83,1486.45 2148.83,1467.55 \n",
       "  \"/>\n",
       "<path clip-path=\"url(#clip470)\" d=\"M390.002 1530.29 L419.678 1530.29 L419.678 1534.23 L390.002 1534.23 L390.002 1530.29 Z\" fill=\"#000000\" fill-rule=\"evenodd\" fill-opacity=\"1\" /><path clip-path=\"url(#clip470)\" d=\"M429.817 1512.56 L448.173 1512.56 L448.173 1516.5 L434.099 1516.5 L434.099 1524.97 Q435.118 1524.62 436.136 1524.46 Q437.155 1524.27 438.173 1524.27 Q443.96 1524.27 447.34 1527.44 Q450.719 1530.62 450.719 1536.03 Q450.719 1541.61 447.247 1544.71 Q443.775 1547.79 437.456 1547.79 Q435.28 1547.79 433.011 1547.42 Q430.766 1547.05 428.358 1546.31 L428.358 1541.61 Q430.442 1542.74 432.664 1543.3 Q434.886 1543.86 437.363 1543.86 Q441.368 1543.86 443.706 1541.75 Q446.044 1539.64 446.044 1536.03 Q446.044 1532.42 443.706 1530.31 Q441.368 1528.21 437.363 1528.21 Q435.488 1528.21 433.613 1528.62 Q431.761 1529.04 429.817 1529.92 L429.817 1512.56 Z\" fill=\"#000000\" fill-rule=\"evenodd\" fill-opacity=\"1\" /><path clip-path=\"url(#clip470)\" d=\"M852.478 1515.64 Q848.867 1515.64 847.039 1519.2 Q845.233 1522.75 845.233 1529.87 Q845.233 1536.98 847.039 1540.55 Q848.867 1544.09 852.478 1544.09 Q856.113 1544.09 857.918 1540.55 Q859.747 1536.98 859.747 1529.87 Q859.747 1522.75 857.918 1519.2 Q856.113 1515.64 852.478 1515.64 M852.478 1511.93 Q858.288 1511.93 861.344 1516.54 Q864.423 1521.12 864.423 1529.87 Q864.423 1538.6 861.344 1543.21 Q858.288 1547.79 852.478 1547.79 Q846.668 1547.79 843.589 1543.21 Q840.534 1538.6 840.534 1529.87 Q840.534 1521.12 843.589 1516.54 Q846.668 1511.93 852.478 1511.93 Z\" fill=\"#000000\" fill-rule=\"evenodd\" fill-opacity=\"1\" /><path clip-path=\"url(#clip470)\" d=\"M1274.87 1512.56 L1293.23 1512.56 L1293.23 1516.5 L1279.16 1516.5 L1279.16 1524.97 Q1280.17 1524.62 1281.19 1524.46 Q1282.21 1524.27 1283.23 1524.27 Q1289.02 1524.27 1292.4 1527.44 Q1295.78 1530.62 1295.78 1536.03 Q1295.78 1541.61 1292.3 1544.71 Q1288.83 1547.79 1282.51 1547.79 Q1280.34 1547.79 1278.07 1547.42 Q1275.82 1547.05 1273.42 1546.31 L1273.42 1541.61 Q1275.5 1542.74 1277.72 1543.3 Q1279.94 1543.86 1282.42 1543.86 Q1286.42 1543.86 1288.76 1541.75 Q1291.1 1539.64 1291.1 1536.03 Q1291.1 1532.42 1288.76 1530.31 Q1286.42 1528.21 1282.42 1528.21 Q1280.54 1528.21 1278.67 1528.62 Q1276.82 1529.04 1274.87 1529.92 L1274.87 1512.56 Z\" fill=\"#000000\" fill-rule=\"evenodd\" fill-opacity=\"1\" /><path clip-path=\"url(#clip470)\" d=\"M1691.4 1543.18 L1699.04 1543.18 L1699.04 1516.82 L1690.73 1518.49 L1690.73 1514.23 L1698.99 1512.56 L1703.67 1512.56 L1703.67 1543.18 L1711.31 1543.18 L1711.31 1547.12 L1691.4 1547.12 L1691.4 1543.18 Z\" fill=\"#000000\" fill-rule=\"evenodd\" fill-opacity=\"1\" /><path clip-path=\"url(#clip470)\" d=\"M1730.75 1515.64 Q1727.14 1515.64 1725.31 1519.2 Q1723.51 1522.75 1723.51 1529.87 Q1723.51 1536.98 1725.31 1540.55 Q1727.14 1544.09 1730.75 1544.09 Q1734.39 1544.09 1736.19 1540.55 Q1738.02 1536.98 1738.02 1529.87 Q1738.02 1522.75 1736.19 1519.2 Q1734.39 1515.64 1730.75 1515.64 M1730.75 1511.93 Q1736.56 1511.93 1739.62 1516.54 Q1742.7 1521.12 1742.7 1529.87 Q1742.7 1538.6 1739.62 1543.21 Q1736.56 1547.79 1730.75 1547.79 Q1724.94 1547.79 1721.86 1543.21 Q1718.81 1538.6 1718.81 1529.87 Q1718.81 1521.12 1721.86 1516.54 Q1724.94 1511.93 1730.75 1511.93 Z\" fill=\"#000000\" fill-rule=\"evenodd\" fill-opacity=\"1\" /><path clip-path=\"url(#clip470)\" d=\"M2124.02 1543.18 L2131.66 1543.18 L2131.66 1516.82 L2123.35 1518.49 L2123.35 1514.23 L2131.61 1512.56 L2136.28 1512.56 L2136.28 1543.18 L2143.92 1543.18 L2143.92 1547.12 L2124.02 1547.12 L2124.02 1543.18 Z\" fill=\"#000000\" fill-rule=\"evenodd\" fill-opacity=\"1\" /><path clip-path=\"url(#clip470)\" d=\"M2153.41 1512.56 L2171.77 1512.56 L2171.77 1516.5 L2157.7 1516.5 L2157.7 1524.97 Q2158.72 1524.62 2159.73 1524.46 Q2160.75 1524.27 2161.77 1524.27 Q2167.56 1524.27 2170.94 1527.44 Q2174.32 1530.62 2174.32 1536.03 Q2174.32 1541.61 2170.84 1544.71 Q2167.37 1547.79 2161.05 1547.79 Q2158.88 1547.79 2156.61 1547.42 Q2154.36 1547.05 2151.96 1546.31 L2151.96 1541.61 Q2154.04 1542.74 2156.26 1543.3 Q2158.48 1543.86 2160.96 1543.86 Q2164.97 1543.86 2167.3 1541.75 Q2169.64 1539.64 2169.64 1536.03 Q2169.64 1532.42 2167.3 1530.31 Q2164.97 1528.21 2160.96 1528.21 Q2159.09 1528.21 2157.21 1528.62 Q2155.36 1529.04 2153.41 1529.92 L2153.41 1512.56 Z\" fill=\"#000000\" fill-rule=\"evenodd\" fill-opacity=\"1\" /><polyline clip-path=\"url(#clip472)\" style=\"stroke:#000000; stroke-linecap:butt; stroke-linejoin:round; stroke-width:2; stroke-opacity:0.1; fill:none\" points=\"\n",
       "  216.436,1445.72 2352.76,1445.72 \n",
       "  \"/>\n",
       "<polyline clip-path=\"url(#clip472)\" style=\"stroke:#000000; stroke-linecap:butt; stroke-linejoin:round; stroke-width:2; stroke-opacity:0.1; fill:none\" points=\"\n",
       "  216.436,1129.67 2352.76,1129.67 \n",
       "  \"/>\n",
       "<polyline clip-path=\"url(#clip472)\" style=\"stroke:#000000; stroke-linecap:butt; stroke-linejoin:round; stroke-width:2; stroke-opacity:0.1; fill:none\" points=\"\n",
       "  216.436,813.621 2352.76,813.621 \n",
       "  \"/>\n",
       "<polyline clip-path=\"url(#clip472)\" style=\"stroke:#000000; stroke-linecap:butt; stroke-linejoin:round; stroke-width:2; stroke-opacity:0.1; fill:none\" points=\"\n",
       "  216.436,497.574 2352.76,497.574 \n",
       "  \"/>\n",
       "<polyline clip-path=\"url(#clip472)\" style=\"stroke:#000000; stroke-linecap:butt; stroke-linejoin:round; stroke-width:2; stroke-opacity:0.1; fill:none\" points=\"\n",
       "  216.436,181.526 2352.76,181.526 \n",
       "  \"/>\n",
       "<polyline clip-path=\"url(#clip470)\" style=\"stroke:#000000; stroke-linecap:butt; stroke-linejoin:round; stroke-width:4; stroke-opacity:1; fill:none\" points=\"\n",
       "  216.436,1486.45 216.436,47.2441 \n",
       "  \"/>\n",
       "<polyline clip-path=\"url(#clip470)\" style=\"stroke:#000000; stroke-linecap:butt; stroke-linejoin:round; stroke-width:4; stroke-opacity:1; fill:none\" points=\"\n",
       "  216.436,1445.72 235.334,1445.72 \n",
       "  \"/>\n",
       "<polyline clip-path=\"url(#clip470)\" style=\"stroke:#000000; stroke-linecap:butt; stroke-linejoin:round; stroke-width:4; stroke-opacity:1; fill:none\" points=\"\n",
       "  216.436,1129.67 235.334,1129.67 \n",
       "  \"/>\n",
       "<polyline clip-path=\"url(#clip470)\" style=\"stroke:#000000; stroke-linecap:butt; stroke-linejoin:round; stroke-width:4; stroke-opacity:1; fill:none\" points=\"\n",
       "  216.436,813.621 235.334,813.621 \n",
       "  \"/>\n",
       "<polyline clip-path=\"url(#clip470)\" style=\"stroke:#000000; stroke-linecap:butt; stroke-linejoin:round; stroke-width:4; stroke-opacity:1; fill:none\" points=\"\n",
       "  216.436,497.574 235.334,497.574 \n",
       "  \"/>\n",
       "<polyline clip-path=\"url(#clip470)\" style=\"stroke:#000000; stroke-linecap:butt; stroke-linejoin:round; stroke-width:4; stroke-opacity:1; fill:none\" points=\"\n",
       "  216.436,181.526 235.334,181.526 \n",
       "  \"/>\n",
       "<path clip-path=\"url(#clip470)\" d=\"M62.9365 1431.51 Q59.3254 1431.51 57.4967 1435.08 Q55.6912 1438.62 55.6912 1445.75 Q55.6912 1452.86 57.4967 1456.42 Q59.3254 1459.96 62.9365 1459.96 Q66.5707 1459.96 68.3763 1456.42 Q70.205 1452.86 70.205 1445.75 Q70.205 1438.62 68.3763 1435.08 Q66.5707 1431.51 62.9365 1431.51 M62.9365 1427.81 Q68.7467 1427.81 71.8022 1432.42 Q74.8809 1437 74.8809 1445.75 Q74.8809 1454.48 71.8022 1459.08 Q68.7467 1463.67 62.9365 1463.67 Q57.1264 1463.67 54.0477 1459.08 Q50.9921 1454.48 50.9921 1445.75 Q50.9921 1437 54.0477 1432.42 Q57.1264 1427.81 62.9365 1427.81 Z\" fill=\"#000000\" fill-rule=\"evenodd\" fill-opacity=\"1\" /><path clip-path=\"url(#clip470)\" d=\"M83.0984 1457.12 L87.9827 1457.12 L87.9827 1463 L83.0984 1463 L83.0984 1457.12 Z\" fill=\"#000000\" fill-rule=\"evenodd\" fill-opacity=\"1\" /><path clip-path=\"url(#clip470)\" d=\"M108.168 1431.51 Q104.557 1431.51 102.728 1435.08 Q100.922 1438.62 100.922 1445.75 Q100.922 1452.86 102.728 1456.42 Q104.557 1459.96 108.168 1459.96 Q111.802 1459.96 113.608 1456.42 Q115.436 1452.86 115.436 1445.75 Q115.436 1438.62 113.608 1435.08 Q111.802 1431.51 108.168 1431.51 M108.168 1427.81 Q113.978 1427.81 117.033 1432.42 Q120.112 1437 120.112 1445.75 Q120.112 1454.48 117.033 1459.08 Q113.978 1463.67 108.168 1463.67 Q102.358 1463.67 99.2789 1459.08 Q96.2234 1454.48 96.2234 1445.75 Q96.2234 1437 99.2789 1432.42 Q102.358 1427.81 108.168 1427.81 Z\" fill=\"#000000\" fill-rule=\"evenodd\" fill-opacity=\"1\" /><path clip-path=\"url(#clip470)\" d=\"M138.33 1431.51 Q134.719 1431.51 132.89 1435.08 Q131.084 1438.62 131.084 1445.75 Q131.084 1452.86 132.89 1456.42 Q134.719 1459.96 138.33 1459.96 Q141.964 1459.96 143.769 1456.42 Q145.598 1452.86 145.598 1445.75 Q145.598 1438.62 143.769 1435.08 Q141.964 1431.51 138.33 1431.51 M138.33 1427.81 Q144.14 1427.81 147.195 1432.42 Q150.274 1437 150.274 1445.75 Q150.274 1454.48 147.195 1459.08 Q144.14 1463.67 138.33 1463.67 Q132.519 1463.67 129.441 1459.08 Q126.385 1454.48 126.385 1445.75 Q126.385 1437 129.441 1432.42 Q132.519 1427.81 138.33 1427.81 Z\" fill=\"#000000\" fill-rule=\"evenodd\" fill-opacity=\"1\" /><path clip-path=\"url(#clip470)\" d=\"M168.491 1431.51 Q164.88 1431.51 163.052 1435.08 Q161.246 1438.62 161.246 1445.75 Q161.246 1452.86 163.052 1456.42 Q164.88 1459.96 168.491 1459.96 Q172.126 1459.96 173.931 1456.42 Q175.76 1452.86 175.76 1445.75 Q175.76 1438.62 173.931 1435.08 Q172.126 1431.51 168.491 1431.51 M168.491 1427.81 Q174.302 1427.81 177.357 1432.42 Q180.436 1437 180.436 1445.75 Q180.436 1454.48 177.357 1459.08 Q174.302 1463.67 168.491 1463.67 Q162.681 1463.67 159.603 1459.08 Q156.547 1454.48 156.547 1445.75 Q156.547 1437 159.603 1432.42 Q162.681 1427.81 168.491 1427.81 Z\" fill=\"#000000\" fill-rule=\"evenodd\" fill-opacity=\"1\" /><path clip-path=\"url(#clip470)\" d=\"M63.9319 1115.47 Q60.3208 1115.47 58.4921 1119.03 Q56.6865 1122.57 56.6865 1129.7 Q56.6865 1136.81 58.4921 1140.37 Q60.3208 1143.92 63.9319 1143.92 Q67.5661 1143.92 69.3717 1140.37 Q71.2004 1136.81 71.2004 1129.7 Q71.2004 1122.57 69.3717 1119.03 Q67.5661 1115.47 63.9319 1115.47 M63.9319 1111.76 Q69.742 1111.76 72.7976 1116.37 Q75.8763 1120.95 75.8763 1129.7 Q75.8763 1138.43 72.7976 1143.04 Q69.742 1147.62 63.9319 1147.62 Q58.1217 1147.62 55.043 1143.04 Q51.9875 1138.43 51.9875 1129.7 Q51.9875 1120.95 55.043 1116.37 Q58.1217 1111.76 63.9319 1111.76 Z\" fill=\"#000000\" fill-rule=\"evenodd\" fill-opacity=\"1\" /><path clip-path=\"url(#clip470)\" d=\"M84.0938 1141.07 L88.978 1141.07 L88.978 1146.95 L84.0938 1146.95 L84.0938 1141.07 Z\" fill=\"#000000\" fill-rule=\"evenodd\" fill-opacity=\"1\" /><path clip-path=\"url(#clip470)\" d=\"M109.163 1115.47 Q105.552 1115.47 103.723 1119.03 Q101.918 1122.57 101.918 1129.7 Q101.918 1136.81 103.723 1140.37 Q105.552 1143.92 109.163 1143.92 Q112.797 1143.92 114.603 1140.37 Q116.432 1136.81 116.432 1129.7 Q116.432 1122.57 114.603 1119.03 Q112.797 1115.47 109.163 1115.47 M109.163 1111.76 Q114.973 1111.76 118.029 1116.37 Q121.107 1120.95 121.107 1129.7 Q121.107 1138.43 118.029 1143.04 Q114.973 1147.62 109.163 1147.62 Q103.353 1147.62 100.274 1143.04 Q97.2187 1138.43 97.2187 1129.7 Q97.2187 1120.95 100.274 1116.37 Q103.353 1111.76 109.163 1111.76 Z\" fill=\"#000000\" fill-rule=\"evenodd\" fill-opacity=\"1\" /><path clip-path=\"url(#clip470)\" d=\"M133.353 1143.01 L149.672 1143.01 L149.672 1146.95 L127.728 1146.95 L127.728 1143.01 Q130.39 1140.26 134.973 1135.63 Q139.58 1130.98 140.76 1129.63 Q143.006 1127.11 143.885 1125.37 Q144.788 1123.62 144.788 1121.93 Q144.788 1119.17 142.843 1117.43 Q140.922 1115.7 137.82 1115.7 Q135.621 1115.7 133.168 1116.46 Q130.737 1117.23 127.959 1118.78 L127.959 1114.05 Q130.783 1112.92 133.237 1112.34 Q135.691 1111.76 137.728 1111.76 Q143.098 1111.76 146.293 1114.45 Q149.487 1117.13 149.487 1121.62 Q149.487 1123.75 148.677 1125.68 Q147.89 1127.57 145.783 1130.17 Q145.205 1130.84 142.103 1134.05 Q139.001 1137.25 133.353 1143.01 Z\" fill=\"#000000\" fill-rule=\"evenodd\" fill-opacity=\"1\" /><path clip-path=\"url(#clip470)\" d=\"M159.533 1112.39 L177.89 1112.39 L177.89 1116.32 L163.816 1116.32 L163.816 1124.8 Q164.834 1124.45 165.853 1124.29 Q166.871 1124.1 167.89 1124.1 Q173.677 1124.1 177.056 1127.27 Q180.436 1130.44 180.436 1135.86 Q180.436 1141.44 176.964 1144.54 Q173.491 1147.62 167.172 1147.62 Q164.996 1147.62 162.728 1147.25 Q160.482 1146.88 158.075 1146.14 L158.075 1141.44 Q160.158 1142.57 162.38 1143.13 Q164.603 1143.68 167.079 1143.68 Q171.084 1143.68 173.422 1141.58 Q175.76 1139.47 175.76 1135.86 Q175.76 1132.25 173.422 1130.14 Q171.084 1128.04 167.079 1128.04 Q165.204 1128.04 163.329 1128.45 Q161.478 1128.87 159.533 1129.75 L159.533 1112.39 Z\" fill=\"#000000\" fill-rule=\"evenodd\" fill-opacity=\"1\" /><path clip-path=\"url(#clip470)\" d=\"M62.9365 799.42 Q59.3254 799.42 57.4967 802.984 Q55.6912 806.526 55.6912 813.656 Q55.6912 820.762 57.4967 824.327 Q59.3254 827.869 62.9365 827.869 Q66.5707 827.869 68.3763 824.327 Q70.205 820.762 70.205 813.656 Q70.205 806.526 68.3763 802.984 Q66.5707 799.42 62.9365 799.42 M62.9365 795.716 Q68.7467 795.716 71.8022 800.322 Q74.8809 804.906 74.8809 813.656 Q74.8809 822.383 71.8022 826.989 Q68.7467 831.572 62.9365 831.572 Q57.1264 831.572 54.0477 826.989 Q50.9921 822.383 50.9921 813.656 Q50.9921 804.906 54.0477 800.322 Q57.1264 795.716 62.9365 795.716 Z\" fill=\"#000000\" fill-rule=\"evenodd\" fill-opacity=\"1\" /><path clip-path=\"url(#clip470)\" d=\"M83.0984 825.021 L87.9827 825.021 L87.9827 830.901 L83.0984 830.901 L83.0984 825.021 Z\" fill=\"#000000\" fill-rule=\"evenodd\" fill-opacity=\"1\" /><path clip-path=\"url(#clip470)\" d=\"M108.168 799.42 Q104.557 799.42 102.728 802.984 Q100.922 806.526 100.922 813.656 Q100.922 820.762 102.728 824.327 Q104.557 827.869 108.168 827.869 Q111.802 827.869 113.608 824.327 Q115.436 820.762 115.436 813.656 Q115.436 806.526 113.608 802.984 Q111.802 799.42 108.168 799.42 M108.168 795.716 Q113.978 795.716 117.033 800.322 Q120.112 804.906 120.112 813.656 Q120.112 822.383 117.033 826.989 Q113.978 831.572 108.168 831.572 Q102.358 831.572 99.2789 826.989 Q96.2234 822.383 96.2234 813.656 Q96.2234 804.906 99.2789 800.322 Q102.358 795.716 108.168 795.716 Z\" fill=\"#000000\" fill-rule=\"evenodd\" fill-opacity=\"1\" /><path clip-path=\"url(#clip470)\" d=\"M128.376 796.341 L146.732 796.341 L146.732 800.276 L132.658 800.276 L132.658 808.748 Q133.677 808.401 134.695 808.239 Q135.714 808.054 136.732 808.054 Q142.519 808.054 145.899 811.225 Q149.279 814.396 149.279 819.813 Q149.279 825.392 145.806 828.494 Q142.334 831.572 136.015 831.572 Q133.839 831.572 131.57 831.202 Q129.325 830.832 126.918 830.091 L126.918 825.392 Q129.001 826.526 131.223 827.082 Q133.445 827.637 135.922 827.637 Q139.927 827.637 142.265 825.531 Q144.603 823.424 144.603 819.813 Q144.603 816.202 142.265 814.096 Q139.927 811.989 135.922 811.989 Q134.047 811.989 132.172 812.406 Q130.32 812.822 128.376 813.702 L128.376 796.341 Z\" fill=\"#000000\" fill-rule=\"evenodd\" fill-opacity=\"1\" /><path clip-path=\"url(#clip470)\" d=\"M168.491 799.42 Q164.88 799.42 163.052 802.984 Q161.246 806.526 161.246 813.656 Q161.246 820.762 163.052 824.327 Q164.88 827.869 168.491 827.869 Q172.126 827.869 173.931 824.327 Q175.76 820.762 175.76 813.656 Q175.76 806.526 173.931 802.984 Q172.126 799.42 168.491 799.42 M168.491 795.716 Q174.302 795.716 177.357 800.322 Q180.436 804.906 180.436 813.656 Q180.436 822.383 177.357 826.989 Q174.302 831.572 168.491 831.572 Q162.681 831.572 159.603 826.989 Q156.547 822.383 156.547 813.656 Q156.547 804.906 159.603 800.322 Q162.681 795.716 168.491 795.716 Z\" fill=\"#000000\" fill-rule=\"evenodd\" fill-opacity=\"1\" /><path clip-path=\"url(#clip470)\" d=\"M63.9319 483.372 Q60.3208 483.372 58.4921 486.937 Q56.6865 490.479 56.6865 497.608 Q56.6865 504.715 58.4921 508.28 Q60.3208 511.821 63.9319 511.821 Q67.5661 511.821 69.3717 508.28 Q71.2004 504.715 71.2004 497.608 Q71.2004 490.479 69.3717 486.937 Q67.5661 483.372 63.9319 483.372 M63.9319 479.669 Q69.742 479.669 72.7976 484.275 Q75.8763 488.858 75.8763 497.608 Q75.8763 506.335 72.7976 510.942 Q69.742 515.525 63.9319 515.525 Q58.1217 515.525 55.043 510.942 Q51.9875 506.335 51.9875 497.608 Q51.9875 488.858 55.043 484.275 Q58.1217 479.669 63.9319 479.669 Z\" fill=\"#000000\" fill-rule=\"evenodd\" fill-opacity=\"1\" /><path clip-path=\"url(#clip470)\" d=\"M84.0938 508.974 L88.978 508.974 L88.978 514.854 L84.0938 514.854 L84.0938 508.974 Z\" fill=\"#000000\" fill-rule=\"evenodd\" fill-opacity=\"1\" /><path clip-path=\"url(#clip470)\" d=\"M109.163 483.372 Q105.552 483.372 103.723 486.937 Q101.918 490.479 101.918 497.608 Q101.918 504.715 103.723 508.28 Q105.552 511.821 109.163 511.821 Q112.797 511.821 114.603 508.28 Q116.432 504.715 116.432 497.608 Q116.432 490.479 114.603 486.937 Q112.797 483.372 109.163 483.372 M109.163 479.669 Q114.973 479.669 118.029 484.275 Q121.107 488.858 121.107 497.608 Q121.107 506.335 118.029 510.942 Q114.973 515.525 109.163 515.525 Q103.353 515.525 100.274 510.942 Q97.2187 506.335 97.2187 497.608 Q97.2187 488.858 100.274 484.275 Q103.353 479.669 109.163 479.669 Z\" fill=\"#000000\" fill-rule=\"evenodd\" fill-opacity=\"1\" /><path clip-path=\"url(#clip470)\" d=\"M128.144 480.294 L150.367 480.294 L150.367 482.284 L137.82 514.854 L132.936 514.854 L144.742 484.229 L128.144 484.229 L128.144 480.294 Z\" fill=\"#000000\" fill-rule=\"evenodd\" fill-opacity=\"1\" /><path clip-path=\"url(#clip470)\" d=\"M159.533 480.294 L177.89 480.294 L177.89 484.229 L163.816 484.229 L163.816 492.701 Q164.834 492.354 165.853 492.192 Q166.871 492.007 167.89 492.007 Q173.677 492.007 177.056 495.178 Q180.436 498.349 180.436 503.766 Q180.436 509.344 176.964 512.446 Q173.491 515.525 167.172 515.525 Q164.996 515.525 162.728 515.155 Q160.482 514.784 158.075 514.043 L158.075 509.344 Q160.158 510.479 162.38 511.034 Q164.603 511.59 167.079 511.59 Q171.084 511.59 173.422 509.483 Q175.76 507.377 175.76 503.766 Q175.76 500.155 173.422 498.048 Q171.084 495.942 167.079 495.942 Q165.204 495.942 163.329 496.358 Q161.478 496.775 159.533 497.655 L159.533 480.294 Z\" fill=\"#000000\" fill-rule=\"evenodd\" fill-opacity=\"1\" /><path clip-path=\"url(#clip470)\" d=\"M62.9365 167.325 Q59.3254 167.325 57.4967 170.89 Q55.6912 174.431 55.6912 181.561 Q55.6912 188.667 57.4967 192.232 Q59.3254 195.774 62.9365 195.774 Q66.5707 195.774 68.3763 192.232 Q70.205 188.667 70.205 181.561 Q70.205 174.431 68.3763 170.89 Q66.5707 167.325 62.9365 167.325 M62.9365 163.621 Q68.7467 163.621 71.8022 168.228 Q74.8809 172.811 74.8809 181.561 Q74.8809 190.288 71.8022 194.894 Q68.7467 199.478 62.9365 199.478 Q57.1264 199.478 54.0477 194.894 Q50.9921 190.288 50.9921 181.561 Q50.9921 172.811 54.0477 168.228 Q57.1264 163.621 62.9365 163.621 Z\" fill=\"#000000\" fill-rule=\"evenodd\" fill-opacity=\"1\" /><path clip-path=\"url(#clip470)\" d=\"M83.0984 192.927 L87.9827 192.927 L87.9827 198.806 L83.0984 198.806 L83.0984 192.927 Z\" fill=\"#000000\" fill-rule=\"evenodd\" fill-opacity=\"1\" /><path clip-path=\"url(#clip470)\" d=\"M98.978 194.871 L106.617 194.871 L106.617 168.506 L98.3067 170.172 L98.3067 165.913 L106.571 164.246 L111.246 164.246 L111.246 194.871 L118.885 194.871 L118.885 198.806 L98.978 198.806 L98.978 194.871 Z\" fill=\"#000000\" fill-rule=\"evenodd\" fill-opacity=\"1\" /><path clip-path=\"url(#clip470)\" d=\"M138.33 167.325 Q134.719 167.325 132.89 170.89 Q131.084 174.431 131.084 181.561 Q131.084 188.667 132.89 192.232 Q134.719 195.774 138.33 195.774 Q141.964 195.774 143.769 192.232 Q145.598 188.667 145.598 181.561 Q145.598 174.431 143.769 170.89 Q141.964 167.325 138.33 167.325 M138.33 163.621 Q144.14 163.621 147.195 168.228 Q150.274 172.811 150.274 181.561 Q150.274 190.288 147.195 194.894 Q144.14 199.478 138.33 199.478 Q132.519 199.478 129.441 194.894 Q126.385 190.288 126.385 181.561 Q126.385 172.811 129.441 168.228 Q132.519 163.621 138.33 163.621 Z\" fill=\"#000000\" fill-rule=\"evenodd\" fill-opacity=\"1\" /><path clip-path=\"url(#clip470)\" d=\"M168.491 167.325 Q164.88 167.325 163.052 170.89 Q161.246 174.431 161.246 181.561 Q161.246 188.667 163.052 192.232 Q164.88 195.774 168.491 195.774 Q172.126 195.774 173.931 192.232 Q175.76 188.667 175.76 181.561 Q175.76 174.431 173.931 170.89 Q172.126 167.325 168.491 167.325 M168.491 163.621 Q174.302 163.621 177.357 168.228 Q180.436 172.811 180.436 181.561 Q180.436 190.288 177.357 194.894 Q174.302 199.478 168.491 199.478 Q162.681 199.478 159.603 194.894 Q156.547 190.288 156.547 181.561 Q156.547 172.811 159.603 168.228 Q162.681 163.621 168.491 163.621 Z\" fill=\"#000000\" fill-rule=\"evenodd\" fill-opacity=\"1\" /><path clip-path=\"url(#clip472)\" d=\"\n",
       "M333.937 1438.13 L333.937 1445.72 L420.361 1445.72 L420.361 1438.13 L333.937 1438.13 L333.937 1438.13  Z\n",
       "  \" fill=\"#ffffff\" fill-rule=\"evenodd\" fill-opacity=\"1\"/>\n",
       "<polyline clip-path=\"url(#clip472)\" style=\"stroke:#000000; stroke-linecap:butt; stroke-linejoin:round; stroke-width:4; stroke-opacity:1; fill:none\" points=\"\n",
       "  333.937,1438.13 333.937,1445.72 420.361,1445.72 420.361,1438.13 333.937,1438.13 \n",
       "  \"/>\n",
       "<path clip-path=\"url(#clip472)\" d=\"\n",
       "M420.361 1372.39 L420.361 1445.72 L506.784 1445.72 L506.784 1372.39 L420.361 1372.39 L420.361 1372.39  Z\n",
       "  \" fill=\"#ffffff\" fill-rule=\"evenodd\" fill-opacity=\"1\"/>\n",
       "<polyline clip-path=\"url(#clip472)\" style=\"stroke:#000000; stroke-linecap:butt; stroke-linejoin:round; stroke-width:4; stroke-opacity:1; fill:none\" points=\"\n",
       "  420.361,1372.39 420.361,1445.72 506.784,1445.72 506.784,1372.39 420.361,1372.39 \n",
       "  \"/>\n",
       "<path clip-path=\"url(#clip472)\" d=\"\n",
       "M506.784 1096.8 L506.784 1445.72 L593.208 1445.72 L593.208 1096.8 L506.784 1096.8 L506.784 1096.8  Z\n",
       "  \" fill=\"#ffffff\" fill-rule=\"evenodd\" fill-opacity=\"1\"/>\n",
       "<polyline clip-path=\"url(#clip472)\" style=\"stroke:#000000; stroke-linecap:butt; stroke-linejoin:round; stroke-width:4; stroke-opacity:1; fill:none\" points=\"\n",
       "  506.784,1096.8 506.784,1445.72 593.208,1445.72 593.208,1096.8 506.784,1096.8 \n",
       "  \"/>\n",
       "<path clip-path=\"url(#clip472)\" d=\"\n",
       "M593.208 642.955 L593.208 1445.72 L679.631 1445.72 L679.631 642.955 L593.208 642.955 L593.208 642.955  Z\n",
       "  \" fill=\"#ffffff\" fill-rule=\"evenodd\" fill-opacity=\"1\"/>\n",
       "<polyline clip-path=\"url(#clip472)\" style=\"stroke:#000000; stroke-linecap:butt; stroke-linejoin:round; stroke-width:4; stroke-opacity:1; fill:none\" points=\"\n",
       "  593.208,642.955 593.208,1445.72 679.631,1445.72 679.631,642.955 593.208,642.955 \n",
       "  \"/>\n",
       "<path clip-path=\"url(#clip472)\" d=\"\n",
       "M679.631 214.395 L679.631 1445.72 L766.055 1445.72 L766.055 214.395 L679.631 214.395 L679.631 214.395  Z\n",
       "  \" fill=\"#ffffff\" fill-rule=\"evenodd\" fill-opacity=\"1\"/>\n",
       "<polyline clip-path=\"url(#clip472)\" style=\"stroke:#000000; stroke-linecap:butt; stroke-linejoin:round; stroke-width:4; stroke-opacity:1; fill:none\" points=\"\n",
       "  679.631,214.395 679.631,1445.72 766.055,1445.72 766.055,214.395 679.631,214.395 \n",
       "  \"/>\n",
       "<path clip-path=\"url(#clip472)\" d=\"\n",
       "M766.055 87.9763 L766.055 1445.72 L852.478 1445.72 L852.478 87.9763 L766.055 87.9763 L766.055 87.9763  Z\n",
       "  \" fill=\"#ffffff\" fill-rule=\"evenodd\" fill-opacity=\"1\"/>\n",
       "<polyline clip-path=\"url(#clip472)\" style=\"stroke:#000000; stroke-linecap:butt; stroke-linejoin:round; stroke-width:4; stroke-opacity:1; fill:none\" points=\"\n",
       "  766.055,87.9763 766.055,1445.72 852.478,1445.72 852.478,87.9763 766.055,87.9763 \n",
       "  \"/>\n",
       "<path clip-path=\"url(#clip472)\" d=\"\n",
       "M852.478 167.62 L852.478 1445.72 L938.902 1445.72 L938.902 167.62 L852.478 167.62 L852.478 167.62  Z\n",
       "  \" fill=\"#ffffff\" fill-rule=\"evenodd\" fill-opacity=\"1\"/>\n",
       "<polyline clip-path=\"url(#clip472)\" style=\"stroke:#000000; stroke-linecap:butt; stroke-linejoin:round; stroke-width:4; stroke-opacity:1; fill:none\" points=\"\n",
       "  852.478,167.62 852.478,1445.72 938.902,1445.72 938.902,167.62 852.478,167.62 \n",
       "  \"/>\n",
       "<path clip-path=\"url(#clip472)\" d=\"\n",
       "M938.902 152.45 L938.902 1445.72 L1025.33 1445.72 L1025.33 152.45 L938.902 152.45 L938.902 152.45  Z\n",
       "  \" fill=\"#ffffff\" fill-rule=\"evenodd\" fill-opacity=\"1\"/>\n",
       "<polyline clip-path=\"url(#clip472)\" style=\"stroke:#000000; stroke-linecap:butt; stroke-linejoin:round; stroke-width:4; stroke-opacity:1; fill:none\" points=\"\n",
       "  938.902,152.45 938.902,1445.72 1025.33,1445.72 1025.33,152.45 938.902,152.45 \n",
       "  \"/>\n",
       "<path clip-path=\"url(#clip472)\" d=\"\n",
       "M1025.33 248.528 L1025.33 1445.72 L1111.75 1445.72 L1111.75 248.528 L1025.33 248.528 L1025.33 248.528  Z\n",
       "  \" fill=\"#ffffff\" fill-rule=\"evenodd\" fill-opacity=\"1\"/>\n",
       "<polyline clip-path=\"url(#clip472)\" style=\"stroke:#000000; stroke-linecap:butt; stroke-linejoin:round; stroke-width:4; stroke-opacity:1; fill:none\" points=\"\n",
       "  1025.33,248.528 1025.33,1445.72 1111.75,1445.72 1111.75,248.528 1025.33,248.528 \n",
       "  \"/>\n",
       "<path clip-path=\"url(#clip472)\" d=\"\n",
       "M1111.75 751.676 L1111.75 1445.72 L1198.17 1445.72 L1198.17 751.676 L1111.75 751.676 L1111.75 751.676  Z\n",
       "  \" fill=\"#ffffff\" fill-rule=\"evenodd\" fill-opacity=\"1\"/>\n",
       "<polyline clip-path=\"url(#clip472)\" style=\"stroke:#000000; stroke-linecap:butt; stroke-linejoin:round; stroke-width:4; stroke-opacity:1; fill:none\" points=\"\n",
       "  1111.75,751.676 1111.75,1445.72 1198.17,1445.72 1198.17,751.676 1111.75,751.676 \n",
       "  \"/>\n",
       "<path clip-path=\"url(#clip472)\" d=\"\n",
       "M1198.17 1013.36 L1198.17 1445.72 L1284.6 1445.72 L1284.6 1013.36 L1198.17 1013.36 L1198.17 1013.36  Z\n",
       "  \" fill=\"#ffffff\" fill-rule=\"evenodd\" fill-opacity=\"1\"/>\n",
       "<polyline clip-path=\"url(#clip472)\" style=\"stroke:#000000; stroke-linecap:butt; stroke-linejoin:round; stroke-width:4; stroke-opacity:1; fill:none\" points=\"\n",
       "  1198.17,1013.36 1198.17,1445.72 1284.6,1445.72 1284.6,1013.36 1198.17,1013.36 \n",
       "  \"/>\n",
       "<path clip-path=\"url(#clip472)\" d=\"\n",
       "M1284.6 1027.27 L1284.6 1445.72 L1371.02 1445.72 L1371.02 1027.27 L1284.6 1027.27 L1284.6 1027.27  Z\n",
       "  \" fill=\"#ffffff\" fill-rule=\"evenodd\" fill-opacity=\"1\"/>\n",
       "<polyline clip-path=\"url(#clip472)\" style=\"stroke:#000000; stroke-linecap:butt; stroke-linejoin:round; stroke-width:4; stroke-opacity:1; fill:none\" points=\"\n",
       "  1284.6,1027.27 1284.6,1445.72 1371.02,1445.72 1371.02,1027.27 1284.6,1027.27 \n",
       "  \"/>\n",
       "<path clip-path=\"url(#clip472)\" d=\"\n",
       "M1371.02 855.339 L1371.02 1445.72 L1457.44 1445.72 L1457.44 855.339 L1371.02 855.339 L1371.02 855.339  Z\n",
       "  \" fill=\"#ffffff\" fill-rule=\"evenodd\" fill-opacity=\"1\"/>\n",
       "<polyline clip-path=\"url(#clip472)\" style=\"stroke:#000000; stroke-linecap:butt; stroke-linejoin:round; stroke-width:4; stroke-opacity:1; fill:none\" points=\"\n",
       "  1371.02,855.339 1371.02,1445.72 1457.44,1445.72 1457.44,855.339 1371.02,855.339 \n",
       "  \"/>\n",
       "<path clip-path=\"url(#clip472)\" d=\"\n",
       "M1457.44 653.069 L1457.44 1445.72 L1543.87 1445.72 L1543.87 653.069 L1457.44 653.069 L1457.44 653.069  Z\n",
       "  \" fill=\"#ffffff\" fill-rule=\"evenodd\" fill-opacity=\"1\"/>\n",
       "<polyline clip-path=\"url(#clip472)\" style=\"stroke:#000000; stroke-linecap:butt; stroke-linejoin:round; stroke-width:4; stroke-opacity:1; fill:none\" points=\"\n",
       "  1457.44,653.069 1457.44,1445.72 1543.87,1445.72 1543.87,653.069 1457.44,653.069 \n",
       "  \"/>\n",
       "<path clip-path=\"url(#clip472)\" d=\"\n",
       "M1543.87 675.824 L1543.87 1445.72 L1630.29 1445.72 L1630.29 675.824 L1543.87 675.824 L1543.87 675.824  Z\n",
       "  \" fill=\"#ffffff\" fill-rule=\"evenodd\" fill-opacity=\"1\"/>\n",
       "<polyline clip-path=\"url(#clip472)\" style=\"stroke:#000000; stroke-linecap:butt; stroke-linejoin:round; stroke-width:4; stroke-opacity:1; fill:none\" points=\"\n",
       "  1543.87,675.824 1543.87,1445.72 1630.29,1445.72 1630.29,675.824 1543.87,675.824 \n",
       "  \"/>\n",
       "<path clip-path=\"url(#clip472)\" d=\"\n",
       "M1630.29 802.243 L1630.29 1445.72 L1716.71 1445.72 L1716.71 802.243 L1630.29 802.243 L1630.29 802.243  Z\n",
       "  \" fill=\"#ffffff\" fill-rule=\"evenodd\" fill-opacity=\"1\"/>\n",
       "<polyline clip-path=\"url(#clip472)\" style=\"stroke:#000000; stroke-linecap:butt; stroke-linejoin:round; stroke-width:4; stroke-opacity:1; fill:none\" points=\"\n",
       "  1630.29,802.243 1630.29,1445.72 1716.71,1445.72 1716.71,802.243 1630.29,802.243 \n",
       "  \"/>\n",
       "<path clip-path=\"url(#clip472)\" d=\"\n",
       "M1716.71 1062.67 L1716.71 1445.72 L1803.14 1445.72 L1803.14 1062.67 L1716.71 1062.67 L1716.71 1062.67  Z\n",
       "  \" fill=\"#ffffff\" fill-rule=\"evenodd\" fill-opacity=\"1\"/>\n",
       "<polyline clip-path=\"url(#clip472)\" style=\"stroke:#000000; stroke-linecap:butt; stroke-linejoin:round; stroke-width:4; stroke-opacity:1; fill:none\" points=\"\n",
       "  1716.71,1062.67 1716.71,1445.72 1803.14,1445.72 1803.14,1062.67 1716.71,1062.67 \n",
       "  \"/>\n",
       "<path clip-path=\"url(#clip472)\" d=\"\n",
       "M1803.14 1248.5 L1803.14 1445.72 L1889.56 1445.72 L1889.56 1248.5 L1803.14 1248.5 L1803.14 1248.5  Z\n",
       "  \" fill=\"#ffffff\" fill-rule=\"evenodd\" fill-opacity=\"1\"/>\n",
       "<polyline clip-path=\"url(#clip472)\" style=\"stroke:#000000; stroke-linecap:butt; stroke-linejoin:round; stroke-width:4; stroke-opacity:1; fill:none\" points=\"\n",
       "  1803.14,1248.5 1803.14,1445.72 1889.56,1445.72 1889.56,1248.5 1803.14,1248.5 \n",
       "  \"/>\n",
       "<path clip-path=\"url(#clip472)\" d=\"\n",
       "M1889.56 1353.43 L1889.56 1445.72 L1975.98 1445.72 L1975.98 1353.43 L1889.56 1353.43 L1889.56 1353.43  Z\n",
       "  \" fill=\"#ffffff\" fill-rule=\"evenodd\" fill-opacity=\"1\"/>\n",
       "<polyline clip-path=\"url(#clip472)\" style=\"stroke:#000000; stroke-linecap:butt; stroke-linejoin:round; stroke-width:4; stroke-opacity:1; fill:none\" points=\"\n",
       "  1889.56,1353.43 1889.56,1445.72 1975.98,1445.72 1975.98,1353.43 1889.56,1353.43 \n",
       "  \"/>\n",
       "<path clip-path=\"url(#clip472)\" d=\"\n",
       "M1975.98 1419.17 L1975.98 1445.72 L2062.41 1445.72 L2062.41 1419.17 L1975.98 1419.17 L1975.98 1419.17  Z\n",
       "  \" fill=\"#ffffff\" fill-rule=\"evenodd\" fill-opacity=\"1\"/>\n",
       "<polyline clip-path=\"url(#clip472)\" style=\"stroke:#000000; stroke-linecap:butt; stroke-linejoin:round; stroke-width:4; stroke-opacity:1; fill:none\" points=\"\n",
       "  1975.98,1419.17 1975.98,1445.72 2062.41,1445.72 2062.41,1419.17 1975.98,1419.17 \n",
       "  \"/>\n",
       "<path clip-path=\"url(#clip472)\" d=\"\n",
       "M2062.41 1435.6 L2062.41 1445.72 L2148.83 1445.72 L2148.83 1435.6 L2062.41 1435.6 L2062.41 1435.6  Z\n",
       "  \" fill=\"#ffffff\" fill-rule=\"evenodd\" fill-opacity=\"1\"/>\n",
       "<polyline clip-path=\"url(#clip472)\" style=\"stroke:#000000; stroke-linecap:butt; stroke-linejoin:round; stroke-width:4; stroke-opacity:1; fill:none\" points=\"\n",
       "  2062.41,1435.6 2062.41,1445.72 2148.83,1445.72 2148.83,1435.6 2062.41,1435.6 \n",
       "  \"/>\n",
       "<path clip-path=\"url(#clip472)\" d=\"\n",
       "M2148.83 1444.45 L2148.83 1445.72 L2235.25 1445.72 L2235.25 1444.45 L2148.83 1444.45 L2148.83 1444.45  Z\n",
       "  \" fill=\"#ffffff\" fill-rule=\"evenodd\" fill-opacity=\"1\"/>\n",
       "<polyline clip-path=\"url(#clip472)\" style=\"stroke:#000000; stroke-linecap:butt; stroke-linejoin:round; stroke-width:4; stroke-opacity:1; fill:none\" points=\"\n",
       "  2148.83,1444.45 2148.83,1445.72 2235.25,1445.72 2235.25,1444.45 2148.83,1444.45 \n",
       "  \"/>\n",
       "<circle clip-path=\"url(#clip472)\" style=\"fill:#009af9; stroke:none; fill-opacity:0\" cx=\"377.149\" cy=\"1438.13\" r=\"2\"/>\n",
       "<circle clip-path=\"url(#clip472)\" style=\"fill:#009af9; stroke:none; fill-opacity:0\" cx=\"463.573\" cy=\"1372.39\" r=\"2\"/>\n",
       "<circle clip-path=\"url(#clip472)\" style=\"fill:#009af9; stroke:none; fill-opacity:0\" cx=\"549.996\" cy=\"1096.8\" r=\"2\"/>\n",
       "<circle clip-path=\"url(#clip472)\" style=\"fill:#009af9; stroke:none; fill-opacity:0\" cx=\"636.42\" cy=\"642.955\" r=\"2\"/>\n",
       "<circle clip-path=\"url(#clip472)\" style=\"fill:#009af9; stroke:none; fill-opacity:0\" cx=\"722.843\" cy=\"214.395\" r=\"2\"/>\n",
       "<circle clip-path=\"url(#clip472)\" style=\"fill:#009af9; stroke:none; fill-opacity:0\" cx=\"809.267\" cy=\"87.9763\" r=\"2\"/>\n",
       "<circle clip-path=\"url(#clip472)\" style=\"fill:#009af9; stroke:none; fill-opacity:0\" cx=\"895.69\" cy=\"167.62\" r=\"2\"/>\n",
       "<circle clip-path=\"url(#clip472)\" style=\"fill:#009af9; stroke:none; fill-opacity:0\" cx=\"982.114\" cy=\"152.45\" r=\"2\"/>\n",
       "<circle clip-path=\"url(#clip472)\" style=\"fill:#009af9; stroke:none; fill-opacity:0\" cx=\"1068.54\" cy=\"248.528\" r=\"2\"/>\n",
       "<circle clip-path=\"url(#clip472)\" style=\"fill:#009af9; stroke:none; fill-opacity:0\" cx=\"1154.96\" cy=\"751.676\" r=\"2\"/>\n",
       "<circle clip-path=\"url(#clip472)\" style=\"fill:#009af9; stroke:none; fill-opacity:0\" cx=\"1241.38\" cy=\"1013.36\" r=\"2\"/>\n",
       "<circle clip-path=\"url(#clip472)\" style=\"fill:#009af9; stroke:none; fill-opacity:0\" cx=\"1327.81\" cy=\"1027.27\" r=\"2\"/>\n",
       "<circle clip-path=\"url(#clip472)\" style=\"fill:#009af9; stroke:none; fill-opacity:0\" cx=\"1414.23\" cy=\"855.339\" r=\"2\"/>\n",
       "<circle clip-path=\"url(#clip472)\" style=\"fill:#009af9; stroke:none; fill-opacity:0\" cx=\"1500.65\" cy=\"653.069\" r=\"2\"/>\n",
       "<circle clip-path=\"url(#clip472)\" style=\"fill:#009af9; stroke:none; fill-opacity:0\" cx=\"1587.08\" cy=\"675.824\" r=\"2\"/>\n",
       "<circle clip-path=\"url(#clip472)\" style=\"fill:#009af9; stroke:none; fill-opacity:0\" cx=\"1673.5\" cy=\"802.243\" r=\"2\"/>\n",
       "<circle clip-path=\"url(#clip472)\" style=\"fill:#009af9; stroke:none; fill-opacity:0\" cx=\"1759.93\" cy=\"1062.67\" r=\"2\"/>\n",
       "<circle clip-path=\"url(#clip472)\" style=\"fill:#009af9; stroke:none; fill-opacity:0\" cx=\"1846.35\" cy=\"1248.5\" r=\"2\"/>\n",
       "<circle clip-path=\"url(#clip472)\" style=\"fill:#009af9; stroke:none; fill-opacity:0\" cx=\"1932.77\" cy=\"1353.43\" r=\"2\"/>\n",
       "<circle clip-path=\"url(#clip472)\" style=\"fill:#009af9; stroke:none; fill-opacity:0\" cx=\"2019.2\" cy=\"1419.17\" r=\"2\"/>\n",
       "<circle clip-path=\"url(#clip472)\" style=\"fill:#009af9; stroke:none; fill-opacity:0\" cx=\"2105.62\" cy=\"1435.6\" r=\"2\"/>\n",
       "<circle clip-path=\"url(#clip472)\" style=\"fill:#009af9; stroke:none; fill-opacity:0\" cx=\"2192.04\" cy=\"1444.45\" r=\"2\"/>\n",
       "<polyline clip-path=\"url(#clip472)\" style=\"stroke:#000000; stroke-linecap:butt; stroke-linejoin:round; stroke-width:24; stroke-opacity:1; fill:none\" points=\"\n",
       "  216.436,1445.64 221.652,1445.62 226.867,1445.6 232.083,1445.58 237.299,1445.55 285.526,1444.88 333.753,1442.13 381.98,1432.71 430.207,1405.69 444.698,1391.36 \n",
       "  459.189,1372.98 473.68,1349.78 488.171,1320.99 502.663,1285.9 517.154,1243.85 531.645,1194.36 546.136,1137.16 570.64,1023.11 595.145,889.69 619.649,742.642 \n",
       "  644.153,590.862 657.462,510.344 670.772,433.604 684.081,362.496 697.39,298.708 710.699,243.655 724.008,198.377 737.318,163.458 750.627,138.973 762.897,125.262 \n",
       "  775.167,119.297 787.437,120.011 799.707,126.064 824.247,148.004 848.786,172.48 875.096,189.384 901.405,189.729 927.714,174.645 954.024,153.104 969.265,143.07 \n",
       "  984.506,138.487 999.747,142.077 1014.99,156.058 1030.23,181.929 1045.47,220.338 1060.71,271.032 1075.95,332.898 1103.04,464.281 1130.13,610.382 1157.22,754.787 \n",
       "  1184.31,882.512 1196.18,930.238 1208.06,971.928 1219.94,1007.14 1231.82,1035.61 1243.69,1057.27 1255.57,1072.17 1267.45,1080.52 1279.32,1082.63 1292.27,1078.29 \n",
       "  1305.22,1067.62 1318.17,1051.3 1331.12,1030.05 1357.02,975.786 1382.92,910.893 1408.97,840.912 1435.02,771.944 1461.08,709.258 1487.13,657.472 1501.53,634.939 \n",
       "  1515.93,617.41 1530.34,605.276 1544.74,598.812 1559.14,598.168 1573.54,603.368 1587.94,614.312 1602.35,630.78 1629.75,676.099 1657.16,736.921 1684.57,809.126 \n",
       "  1711.97,888.157 1740.47,972.711 1768.97,1055.19 1797.46,1131.93 1825.96,1200.34 1849.95,1250.38 1873.94,1293.18 1897.92,1328.87 1921.91,1357.91 1951.2,1385.37 \n",
       "  1980.49,1405.41 2009.77,1419.56 2039.06,1429.22 2094.12,1439.3 2149.18,1443.46 2237.39,1445.37 2325.61,1445.68 2339.18,1445.69 2352.76,1445.7 \n",
       "  \"/>\n",
       "<polyline clip-path=\"url(#clip472)\" style=\"stroke:#3da44d; stroke-linecap:butt; stroke-linejoin:round; stroke-width:12; stroke-opacity:1; fill:none\" points=\"\n",
       "  216.436,1445.72 226.867,1445.72 237.299,1445.72 333.753,1445.67 430.207,1444.31 459.189,1442.36 488.171,1438.28 502.663,1434.96 517.154,1430.43 531.645,1424.38 \n",
       "  546.136,1416.47 558.388,1408.08 570.64,1397.91 582.892,1385.78 595.145,1371.55 607.397,1355.13 619.649,1336.51 631.901,1315.77 644.153,1293.09 670.772,1238.75 \n",
       "  697.39,1181.84 710.699,1154.56 724.008,1129.36 737.318,1107.24 750.627,1089.11 762.897,1076.6 775.167,1068.61 781.302,1066.42 787.437,1065.47 793.572,1065.75 \n",
       "  799.707,1067.28 811.977,1073.98 824.247,1085.31 836.516,1100.83 848.786,1119.98 861.941,1143.75 875.096,1169.96 888.25,1197.66 901.405,1225.9 914.56,1253.84 \n",
       "  927.714,1280.73 940.869,1305.97 954.024,1329.11 969.265,1352.94 984.506,1373.37 999.747,1390.43 1014.99,1404.31 1030.23,1415.33 1045.47,1423.86 1060.71,1430.31 \n",
       "  1075.95,1435.07 1103.04,1440.47 1130.13,1443.29 1157.22,1444.66 1184.31,1445.29 1231.82,1445.64 1279.32,1445.7 1382.92,1445.72 1487.13,1445.72 1602.35,1445.72 \n",
       "  1711.97,1445.72 1825.96,1445.72 1921.91,1445.72 2039.06,1445.72 2149.18,1445.72 2325.61,1445.72 2352.76,1445.72 \n",
       "  \"/>\n",
       "<polyline clip-path=\"url(#clip472)\" style=\"stroke:#c271d2; stroke-linecap:butt; stroke-linejoin:round; stroke-width:12; stroke-opacity:1; fill:none\" points=\"\n",
       "  216.436,1445.64 226.867,1445.6 237.299,1445.55 285.526,1444.88 333.753,1442.18 357.866,1438.86 381.98,1433 406.093,1423.08 430.207,1407.11 444.698,1393.58 \n",
       "  459.189,1376.37 473.68,1354.88 488.171,1328.53 502.663,1296.83 517.154,1259.42 531.645,1216.15 546.136,1167.12 558.388,1121.46 570.64,1072.43 582.892,1020.64 \n",
       "  595.145,966.934 619.649,857.884 644.153,754.847 657.462,705.189 670.772,662.127 684.081,627.178 697.39,601.62 704.045,592.676 710.699,586.411 717.354,582.885 \n",
       "  724.008,582.131 737.318,588.943 750.627,606.587 762.897,631.876 775.167,665.003 787.437,704.941 799.707,750.493 824.247,853.163 848.786,962.322 861.941,1020.05 \n",
       "  875.096,1075.58 888.25,1127.89 901.405,1176.22 914.56,1220.06 927.714,1259.14 940.869,1293.37 954.024,1322.89 969.265,1351.5 984.506,1374.66 999.747,1393.02 \n",
       "  1014.99,1407.3 1045.47,1426.3 1075.95,1436.55 1130.13,1443.67 1184.31,1445.35 1231.82,1445.65 1279.32,1445.7 1382.92,1445.72 1487.13,1445.72 1602.35,1445.72 \n",
       "  1711.97,1445.72 1825.96,1445.72 1921.91,1445.72 2039.06,1445.72 2149.18,1445.72 2325.61,1445.72 2352.76,1445.72 \n",
       "  \"/>\n",
       "<polyline clip-path=\"url(#clip472)\" style=\"stroke:#ac8d18; stroke-linecap:butt; stroke-linejoin:round; stroke-width:12; stroke-opacity:1; fill:none\" points=\"\n",
       "  216.436,1445.72 237.299,1445.72 430.207,1445.7 488.171,1445.61 546.136,1445 595.145,1442.63 644.153,1434.36 670.772,1424.16 697.39,1406.69 724.008,1378.32 \n",
       "  750.627,1334.73 762.897,1308.25 775.167,1277.15 787.437,1241.08 799.707,1199.79 811.977,1153.12 824.247,1101.08 836.516,1043.86 848.786,981.82 875.096,835.66 \n",
       "  901.405,679.726 914.56,602.16 927.714,527.424 940.869,457.564 954.024,394.62 969.265,332.877 984.506,285.661 992.126,268.184 999.747,255.075 1007.37,246.485 \n",
       "  1014.99,242.513 1022.61,243.205 1030.23,248.553 1037.85,258.495 1045.47,272.916 1060.71,314.488 1075.95,371.398 1089.5,432.851 1103.04,502.429 1116.58,577.935 \n",
       "  1130.13,657.127 1157.22,818.015 1184.31,969.996 1196.18,1030.91 1208.06,1087.42 1219.94,1139.14 1231.82,1185.85 1243.69,1227.52 1255.57,1264.22 1267.45,1296.17 \n",
       "  1279.32,1323.65 1305.22,1369.84 1331.12,1400.62 1357.02,1420.09 1382.92,1431.79 1435.02,1442.15 1487.13,1444.96 1602.35,1445.7 1711.97,1445.72 1825.96,1445.72 \n",
       "  1921.91,1445.72 2039.06,1445.72 2149.18,1445.72 2325.61,1445.72 2352.76,1445.72 \n",
       "  \"/>\n",
       "<polyline clip-path=\"url(#clip472)\" style=\"stroke:#00a9ad; stroke-linecap:butt; stroke-linejoin:round; stroke-width:12; stroke-opacity:1; fill:none\" points=\"\n",
       "  216.436,1445.72 237.299,1445.72 430.207,1445.72 546.136,1445.72 644.153,1445.71 750.627,1445.7 848.786,1445.51 901.405,1445.02 954.024,1443.64 1014.99,1439.08 \n",
       "  1075.95,1427.03 1103.04,1417.26 1130.13,1403.44 1157.22,1384.43 1184.31,1359.03 1208.06,1330.57 1231.82,1295.62 1255.57,1253.72 1279.32,1204.72 1305.22,1143.51 \n",
       "  1331.12,1075.15 1357.02,1001.42 1382.92,924.82 1408.97,848.119 1435.02,775.508 1448.05,741.973 1461.08,710.942 1474.1,682.882 1487.13,658.232 1501.53,635.42 \n",
       "  1515.93,617.709 1530.34,605.46 1544.74,598.923 1559.14,598.234 1573.54,603.407 1587.94,614.335 1602.35,630.793 1616.05,651.282 1629.75,676.104 1643.46,704.816 \n",
       "  1657.16,736.923 1684.57,809.127 1711.97,888.157 1740.47,972.711 1768.97,1055.19 1797.46,1131.93 1825.96,1200.34 1849.95,1250.38 1873.94,1293.18 1897.92,1328.87 \n",
       "  1921.91,1357.91 1951.2,1385.37 1980.49,1405.41 2009.77,1419.56 2039.06,1429.22 2094.12,1439.3 2149.18,1443.46 2237.39,1445.37 2325.61,1445.68 2339.18,1445.69 \n",
       "  2352.76,1445.7 \n",
       "  \"/>\n",
       "</svg>\n"
      ]
     },
     "execution_count": 36,
     "metadata": {},
     "output_type": "execute_result"
    }
   ],
   "source": [
    "histogram(y, normalize = :pdf, fillcolor = \"white\", label = \"\")\n",
    "plot!(x -> pdf(mymixture, x), xlim = xlims(), linewidth = 6, \n",
    "    linecolor = \"black\", label = \"\")\n",
    "for k in 1:K\n",
    "    plot!(x->pdf(components(mymixture)[k], x) * probs(mymixture)[k], \n",
    "        xlim=xlims(), linewidth = 3, label = \"\")\n",
    "end\n",
    "plot!()"
   ]
  },
  {
   "cell_type": "code",
   "execution_count": 37,
   "metadata": {},
   "outputs": [],
   "source": [
    "savefig(\"gaussmix.pdf\")"
   ]
  },
  {
   "cell_type": "code",
   "execution_count": 73,
   "metadata": {},
   "outputs": [],
   "source": [
    "mutable struct myGaussMix\n",
    "    \"\"\"\n",
    "    A very simple implementation of a Gaussian mixture model.\n",
    "    \"\"\"\n",
    "    μ # component means\n",
    "    σ # component standard devs\n",
    "    π # component probabilities\n",
    "    π_post # posterior component probabilities\n",
    "    y # data\n",
    "    K # number of components\n",
    "    \n",
    "    function myGaussMix(y, K)\n",
    "        # Initialize component parameters randomly\n",
    "        μ = rand(Normal(0, std(y)), K)\n",
    "        σ = std(y) * ones(K) ./ K\n",
    "        π = rand(Dirichlet(ones(K)))\n",
    "        π_post = zeros((nobs, K))\n",
    "        # Construct object\n",
    "        new(μ, σ, π, π_post, y, K)\n",
    "    end\n",
    "end"
   ]
  },
  {
   "cell_type": "code",
   "execution_count": 74,
   "metadata": {},
   "outputs": [
    {
     "data": {
      "text/plain": [
       "fit! (generic function with 1 method)"
      ]
     },
     "execution_count": 74,
     "metadata": {},
     "output_type": "execute_result"
    }
   ],
   "source": [
    "function fit!(m::myGaussMix; max_iter = 1000, tol = 1e-3)\n",
    "    \"\"\"\n",
    "    A very simple implementation of an EM algorithm for fitting a\n",
    "        Gaussian mixture model.\n",
    "    \"\"\"\n",
    "    # Get values from m\n",
    "    μ = m.μ; σ = m.σ\n",
    "    π = m.π; π_post = m.π_post\n",
    "    K = m.K\n",
    "    # Data parameters\n",
    "    nobs = length(m.y)\n",
    "    # Run EM algorithm\n",
    "    likeli = zeros((nobs, K))\n",
    "    log_l = zeros(max_iter)\n",
    "    log_l_old = -9e6\n",
    "    for j in 1:max_iter\n",
    "        # E-step      \n",
    "        for k in 1:K\n",
    "            likeli[:, k] = pdf(Normal(μ[k], σ[k]), m.y) .* π[k]\n",
    "        end\n",
    "        π_post = likeli ./ repeat(mapslices(sum, likeli, dims = 2)', K)'\n",
    "        \n",
    "        # M-step\n",
    "        for k in 1:K\n",
    "            π[k] = mean(π_post[:, k])\n",
    "            μ[k] = sum(m.y .* π_post[:, k]) ./ sum(π_post[:, k])\n",
    "            σ[k] = sum((m.y .- μ[k]).^2 .* π_post[:, k]) ./ sum(π_post[:, k])\n",
    "            σ[k] = sqrt(σ[k])\n",
    "        end\n",
    "        \n",
    "        # Compute current value of the likelihood\n",
    "        mixture_j = MixtureModel(Normal, [(μ[k], σ[k]) for k in 1:K], π)\n",
    "        log_l[j] = sum(logpdf(mixture_j, m.y))\n",
    "        \n",
    "        # Check for convergence\n",
    "        if (log_l[j] - log_l_old) < tol\n",
    "            break\n",
    "        end\n",
    "    end\n",
    "    # Export values to m\n",
    "    m.μ = μ; m.σ = σ\n",
    "    m.π = π; m.π_post = π_post\n",
    "    return nothing\n",
    "end"
   ]
  },
  {
   "cell_type": "code",
   "execution_count": 75,
   "metadata": {},
   "outputs": [
    {
     "name": "stdout",
     "output_type": "stream",
     "text": [
      "  19.418 s (658602494 allocations: 20.26 GiB)\n"
     ]
    }
   ],
   "source": [
    "mygm = myGaussMix(y, K);\n",
    "@btime fit!(mygm, max_iter = 1000, tol = 1e-6)"
   ]
  },
  {
   "cell_type": "code",
   "execution_count": 76,
   "metadata": {},
   "outputs": [
    {
     "data": {
      "text/plain": [
       "par_fit! (generic function with 1 method)"
      ]
     },
     "execution_count": 76,
     "metadata": {},
     "output_type": "execute_result"
    }
   ],
   "source": [
    "function par_fit!(m::myGaussMix; max_iter = 1000, tol = 1e-3)\n",
    "    \"\"\"\n",
    "    A very simple implementation of an EM algorithm for fitting a\n",
    "        Gaussian mixture model.\n",
    "    \"\"\"\n",
    "    # Get values from m\n",
    "    μ = m.μ; σ = m.σ\n",
    "    π = m.π; π_post = m.π_post\n",
    "    K = m.K\n",
    "    # Data parameters\n",
    "    nobs = length(m.y)\n",
    "    # Run EM algorithm\n",
    "    likeli = zeros((nobs, K))\n",
    "    log_l = zeros(max_iter)\n",
    "    log_l_old = -9e6\n",
    "    for j in 1:max_iter\n",
    "        # E-step      \n",
    "        @threads for k in 1:K\n",
    "            likeli[:, k] = pdf(Normal(μ[k], σ[k]), m.y) .* π[k]\n",
    "        end\n",
    "        π_post = likeli ./ repeat(mapslices(sum, likeli, dims = 2)', K)'\n",
    "        \n",
    "        # M-step\n",
    "        @threads for k in 1:K\n",
    "            π[k] = mean(π_post[:, k])\n",
    "            μ[k] = sum(m.y .* π_post[:, k]) ./ sum(π_post[:, k])\n",
    "            σ[k] = sum((m.y .- μ[k]).^2 .* π_post[:, k]) ./ sum(π_post[:, k])\n",
    "            σ[k] = sqrt(σ[k])\n",
    "        end\n",
    "        \n",
    "        # Compute current value of the likelihood\n",
    "        mixture_j = MixtureModel(Normal, [(μ[k], σ[k]) for k in 1:K], π)\n",
    "        log_l[j] = sum(logpdf(mixture_j, m.y))\n",
    "        \n",
    "        # Check for convergence\n",
    "        if (log_l[j] - log_l_old) < tol\n",
    "            break\n",
    "        end\n",
    "    end\n",
    "    # Export values to m\n",
    "    m.μ = μ; m.σ = σ\n",
    "    m.π = π; m.π_post = π_post\n",
    "    return nothing\n",
    "end"
   ]
  },
  {
   "cell_type": "code",
   "execution_count": 77,
   "metadata": {},
   "outputs": [
    {
     "name": "stdout",
     "output_type": "stream",
     "text": [
      "  19.522 s (658566516 allocations: 20.26 GiB)\n"
     ]
    }
   ],
   "source": [
    "mygm = myGaussMix(y, K);\n",
    "@btime par_fit!(mygm, max_iter = 1000, tol = 1e-6)"
   ]
  },
  {
   "cell_type": "code",
   "execution_count": null,
   "metadata": {},
   "outputs": [],
   "source": []
  },
  {
   "cell_type": "code",
   "execution_count": null,
   "metadata": {},
   "outputs": [],
   "source": []
  },
  {
   "cell_type": "code",
   "execution_count": null,
   "metadata": {},
   "outputs": [],
   "source": []
  },
  {
   "cell_type": "code",
   "execution_count": null,
   "metadata": {},
   "outputs": [],
   "source": [
    "function myEM(m::myGaussMix, max_iter = 1000, tol = 1e-3)\n",
    "    \n",
    "    # Get parameters from m\n",
    "    nobs = \n",
    "    K = m.K\n",
    "    post_probs = zeros((nobs, K))\n",
    "    prior_probs = rand(Dirichlet(ones(K)))\n",
    "    mu_mat = rand(Normal(0, 1), K)\n",
    "    sgm_mat = 3 * ones(K)\n",
    "\n",
    "    likeli_i = zeros(K)\n",
    "    log_likeli = zeros(max_iter)\n",
    "    log_likeli_old = -999999\n",
    "    for j in 1:max_iter\n",
    "            # E-step\n",
    "            for i in 1:nobs\n",
    "                for k in 1:K\n",
    "                    likeli_i[k] = pdf(Normal(mu_mat[k], sgm_mat[k]), y[i]) * \n",
    "                        prior_probs[k]\n",
    "                end\n",
    "                post_probs[i, :] = likeli_i ./ sum(likeli_i)\n",
    "            end\n",
    "\n",
    "            # M-step\n",
    "            for k in 1:K\n",
    "                prior_probs[k] = mean(post_probs[:, k])\n",
    "                mu_mat[k] = sum(y .* post_probs[:, k]) ./ sum(post_probs[:, k])\n",
    "                sgm_mat[k] = sum((y .- mu_mat[k]).^2 .* post_probs[:, k]) ./ \n",
    "                    sum(post_probs[:, k])\n",
    "                sgm_mat[k] = sqrt(sgm_mat[k])\n",
    "            end\n",
    "\n",
    "            # Compute current value of the likelihood\n",
    "            mixture_j = MixtureModel(Normal, \n",
    "                    [(mu_mat[k], sgm_mat[k]) for k in 1:K], \n",
    "                    prior_probs)\n",
    "            log_likeli[j] = sum(logpdf(mixture_j, y))\n",
    "\n",
    "            # Check for convergence\n",
    "            if (log_likeli[j] - log_likeli_old) < tol\n",
    "                break\n",
    "            end\n",
    "        end\n",
    "end"
   ]
  },
  {
   "cell_type": "code",
   "execution_count": null,
   "metadata": {},
   "outputs": [],
   "source": [
    "struct myGaussMixEM\n",
    "    μ\n",
    "    σ\n",
    "    π\n",
    "    π_post\n",
    "    y \n",
    "    log_l\n",
    "    \n",
    "    function myGaussMixEM(y, K; max_iter = 1000, tol = 1e-3)\n",
    "        # Initialize posterior probabilities\n",
    "        post_probs = zeros((nobs, K))\n",
    "        prior_probs = rand(Dirichlet(ones(K)))\n",
    "        mu_mat = rand(Normal(0, 1), K)\n",
    "        sgm_mat = 3 * ones(K)\n",
    "\n",
    "        likeli_i = zeros(K)\n",
    "        log_likeli = zeros(max_iter)\n",
    "        log_likeli_old = -999999\n",
    "        for j in 1:max_iter\n",
    "            # E-step\n",
    "            for i in 1:nobs\n",
    "                for k in 1:K\n",
    "                    likeli_i[k] = pdf(Normal(mu_mat[k], sgm_mat[k]), y[i]) * \n",
    "                        prior_probs[k]\n",
    "                end\n",
    "                post_probs[i, :] = likeli_i ./ sum(likeli_i)\n",
    "            end\n",
    "\n",
    "            # M-step\n",
    "            for k in 1:K\n",
    "                prior_probs[k] = mean(post_probs[:, k])\n",
    "                mu_mat[k] = sum(y .* post_probs[:, k]) ./ sum(post_probs[:, k])\n",
    "                sgm_mat[k] = sum((y .- mu_mat[k]).^2 .* post_probs[:, k]) ./ \n",
    "                    sum(post_probs[:, k])\n",
    "                sgm_mat[k] = sqrt(sgm_mat[k])\n",
    "            end\n",
    "\n",
    "            # Compute current value of the likelihood\n",
    "            mixture_j = MixtureModel(Normal, \n",
    "                    [(mu_mat[k], sgm_mat[k]) for k in 1:K], \n",
    "                    prior_probs)\n",
    "            log_likeli[j] = sum(logpdf(mixture_j, y))\n",
    "\n",
    "            # Check for convergence\n",
    "            if (log_likeli[j] - log_likeli_old) < tol\n",
    "                break\n",
    "            end\n",
    "        end\n",
    "        new(mu_mat, sgm_mat, prior_probs, post_probs, y, log_likeli)\n",
    "    end\n",
    "end"
   ]
  },
  {
   "cell_type": "code",
   "execution_count": null,
   "metadata": {},
   "outputs": [],
   "source": [
    "fit_gaussmix = myGaussMixEM(y, K; max_iter = 1000, tol = 1e-3);"
   ]
  },
  {
   "cell_type": "code",
   "execution_count": null,
   "metadata": {},
   "outputs": [],
   "source": [
    "@btime fit_gaussmix = myGaussMixEM(y, K; max_iter = 1000, tol = 1e-3);"
   ]
  },
  {
   "cell_type": "code",
   "execution_count": null,
   "metadata": {},
   "outputs": [],
   "source": [
    "sort(fit_gaussmix.μ) .- sort(mu_mat)"
   ]
  },
  {
   "cell_type": "code",
   "execution_count": null,
   "metadata": {},
   "outputs": [],
   "source": [
    "sort(fit_gaussmix.μ) .- sort(mu_mat)"
   ]
  },
  {
   "cell_type": "code",
   "execution_count": null,
   "metadata": {},
   "outputs": [],
   "source": [
    "mu_mat"
   ]
  },
  {
   "cell_type": "code",
   "execution_count": null,
   "metadata": {},
   "outputs": [],
   "source": [
    "# Load additional dependencies\n",
    "using DataFrames, CSV\n",
    "using Distributions\n",
    "\n",
    "# Simulation hyperparameters\n",
    "nobs = 100\n",
    "nX = 3\n",
    "\n",
    "# Simulate from a linear DGP ===================================================\n",
    "\n",
    "# This section simulates from the linear regression model. \n",
    "X = randn((nobs, nX))\n",
    "β = randn(nX)\n",
    "ϵ = randn(nobs)\n",
    "y = X * β + ϵ\n",
    "\n",
    "# Estimation ===================================================================\n",
    "\n",
    "# Calculates the ols coefficient\n",
    "β_ols = inv(X' * X) * (X' * y)"
   ]
  },
  {
   "cell_type": "code",
   "execution_count": 2,
   "metadata": {},
   "outputs": [
    {
     "data": {
      "text/plain": [
       "1000"
      ]
     },
     "execution_count": 2,
     "metadata": {},
     "output_type": "execute_result"
    }
   ],
   "source": [
    "# Simulation hyperparameters\n",
    "nobs = 10000\n",
    "nX = 3\n",
    "nsim = 1000"
   ]
  },
  {
   "cell_type": "code",
   "execution_count": 22,
   "metadata": {},
   "outputs": [
    {
     "data": {
      "text/plain": [
       "simple_mc (generic function with 1 method)"
      ]
     },
     "execution_count": 22,
     "metadata": {},
     "output_type": "execute_result"
    }
   ],
   "source": [
    "function simple_mc(nobs, nX, nsim)  \n",
    "    β_mat = zeros((nsim, nX))\n",
    "    for s in 1:nsim\n",
    "        # Simulate data\n",
    "        X = randn((nobs, nX))\n",
    "        y = X * ones(nX) + randn(nobs)\n",
    "        # Estimate the ols coefficient\n",
    "        β_mat[s, :] = inv(X' * X) * (X' * y)\n",
    "    end\n",
    "    return β_mat\n",
    "end\n"
   ]
  },
  {
   "cell_type": "code",
   "execution_count": 24,
   "metadata": {},
   "outputs": [
    {
     "name": "stdout",
     "output_type": "stream",
     "text": [
      "  494.110 ms (16002 allocations: 460.47 MiB)\n"
     ]
    }
   ],
   "source": [
    "@btime simple_mc(nobs, nX, nsim); "
   ]
  },
  {
   "cell_type": "code",
   "execution_count": 20,
   "metadata": {},
   "outputs": [
    {
     "data": {
      "text/plain": [
       "par_simple_mc (generic function with 1 method)"
      ]
     },
     "execution_count": 20,
     "metadata": {},
     "output_type": "execute_result"
    }
   ],
   "source": [
    "function par_simple_mc(nobs, nX, nsim)  \n",
    "    β_mat = zeros((nsim, nX))\n",
    "    rnglist = [MersenneTwister() for i in 1:nthreads()]\n",
    "    @threads for s in 1:nsim\n",
    "        # Simulate data\n",
    "        X = randn(rnglist[threadid()], (nobs, nX))\n",
    "        y = X * ones(nX) + randn(rnglist[threadid()], nobs)\n",
    "        # Estimate the ols coefficient\n",
    "        β_mat[s, :] = inv(X' * X) * (X' * y)\n",
    "    end\n",
    "    return β_mat\n",
    "end"
   ]
  },
  {
   "cell_type": "code",
   "execution_count": 26,
   "metadata": {},
   "outputs": [
    {
     "name": "stdout",
     "output_type": "stream",
     "text": [
      "  259.005 ms (16038 allocations: 460.51 MiB)\n"
     ]
    }
   ],
   "source": [
    "@btime par_simple_mc(nobs, nX, nsim);  "
   ]
  },
  {
   "cell_type": "code",
   "execution_count": 13,
   "metadata": {},
   "outputs": [
    {
     "data": {
      "text/plain": [
       "2-element Vector{MersenneTwister}:\n",
       " MersenneTwister(0xfc2cda7142be3a49c1a58afa09f67700)\n",
       " MersenneTwister(0x126b323b841b7bbec761f36108d8d66c)"
      ]
     },
     "execution_count": 13,
     "metadata": {},
     "output_type": "execute_result"
    }
   ],
   "source": [
    "const rnglist = [MersenneTwister() for i in 1:nthreads()]"
   ]
  },
  {
   "cell_type": "code",
   "execution_count": 14,
   "metadata": {},
   "outputs": [
    {
     "data": {
      "text/plain": [
       "2×3 Matrix{Float64}:\n",
       " -2.14897   2.04058   0.294615\n",
       "  0.465842  0.509789  0.187385"
      ]
     },
     "execution_count": 14,
     "metadata": {},
     "output_type": "execute_result"
    }
   ],
   "source": [
    "randn(rnglist[threadid()], (2, 3))"
   ]
  }
 ],
 "metadata": {
  "kernelspec": {
   "display_name": "Julia 1.6.2",
   "language": "julia",
   "name": "julia-1.6"
  },
  "language_info": {
   "file_extension": ".jl",
   "mimetype": "application/julia",
   "name": "julia",
   "version": "1.6.2"
  }
 },
 "nbformat": 4,
 "nbformat_minor": 4
}
