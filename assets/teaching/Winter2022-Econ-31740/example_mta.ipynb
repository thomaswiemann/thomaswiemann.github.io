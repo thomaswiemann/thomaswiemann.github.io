{
 "cells": [
  {
   "cell_type": "markdown",
   "metadata": {},
   "source": [
    "# Implementing the Mass Transport Approach for Discrete Choice Models\n",
    "\n",
    "\n",
    "_Thomas Wiemann_\n",
    "\n",
    "_TA Discussion \\# 6_  \n",
    "_ECON 31740_  \n",
    "\n",
    "_Feburary 21, 2022_  "
   ]
  },
  {
   "cell_type": "markdown",
   "metadata": {},
   "source": [
    "## Section 0: Preliminaries\n",
    "\n",
    "This section loads the necessary dependencies. The mass transport approach is implemented in a custom package, ``MyMethods.jl``, which is readily available via https://github.com/thomaswiemann/MyMethods.jl. (See the ``README.md`` for installation instructions.) "
   ]
  },
  {
   "cell_type": "code",
   "execution_count": 7,
   "metadata": {},
   "outputs": [],
   "source": [
    "# Load custom package for basis functions. If not yet installed, run the following:\n",
    "#    ``using Pkg; Pkg.add(PackageSpec(url=\"https://github.com/thomaswiemann/MyMethods.jl\")))``.\n",
    "using MyMethods\n",
    "\n",
    "# Load additional dependencies\n",
    "using Distributions, BenchmarkTools"
   ]
  },
  {
   "cell_type": "markdown",
   "metadata": {},
   "source": [
    "## Section 1: A Most Simple Example\n",
    "\n",
    "This section generates conditional choice probabilities of $J=3$ products in $T=100$ markets, with product-market specific characteristics $x_{jt}\\in\\mathbf{R}^2$. \n",
    "\n",
    "The true coefficients are \n",
    "$$\n",
    "\\alpha_0 = [1, 2, 3], \\qquad \\beta_0 = [1, -1].\n",
    "$$"
   ]
  },
  {
   "cell_type": "code",
   "execution_count": 11,
   "metadata": {},
   "outputs": [],
   "source": [
    "# Set dimensions of the data\n",
    "T = 100;\n",
    "J = 3;\n",
    "\n",
    "# Generate example data and calculate conditional choice probabilities \n",
    "X = randn((T, J, 2))\n",
    "mu = zeros((T, J))\n",
    "for j in 1:(J )\n",
    "    mu[:, j] = j .+ X[:, j, :] * [1, -1]\n",
    "end\n",
    "mu = exp.(mu)\n",
    "CCP = mu ./ (1 .+ sum(mu, dims = 2));"
   ]
  },
  {
   "cell_type": "markdown",
   "metadata": {},
   "source": [
    "We will attempt to recover these via the mass transport approach where we select the true distribution of the latent utility shocks ($\\varepsilon \\sim $T1EV)."
   ]
  },
  {
   "cell_type": "code",
   "execution_count": 12,
   "metadata": {},
   "outputs": [
    {
     "name": "stdout",
     "output_type": "stream",
     "text": [
      "  73.763 s (1589353 allocations: 97.26 MiB)\n"
     ]
    }
   ],
   "source": [
    "# Define error distribution (T1EV)\n",
    "Q = GeneralizedExtremeValue(-0.57721, 1, 0)\n",
    "\n",
    "# Estimate and benchmark the mass transport problem\n",
    "@btime mta_fit = myMTA(CCP, X, Q; S = 100);"
   ]
  },
  {
   "cell_type": "markdown",
   "metadata": {},
   "source": [
    "The estimated intercepts are reasonably aligned with $\\alpha_0$,"
   ]
  },
  {
   "cell_type": "code",
   "execution_count": 13,
   "metadata": {},
   "outputs": [
    {
     "data": {
      "text/plain": [
       "3-element Vector{Float64}:\n",
       " 0.9945759918448884\n",
       " 2.0090250216523846\n",
       " 3.0027563177167167"
      ]
     },
     "execution_count": 13,
     "metadata": {},
     "output_type": "execute_result"
    }
   ],
   "source": [
    "# Check the intercept coefficients\n",
    "α_hat = mta_fit.α"
   ]
  },
  {
   "cell_type": "markdown",
   "metadata": {},
   "source": [
    "Similarly, the slope coefficients are accurately estimated."
   ]
  },
  {
   "cell_type": "code",
   "execution_count": 14,
   "metadata": {},
   "outputs": [
    {
     "data": {
      "text/plain": [
       "2-element Vector{Float64}:\n",
       "  0.9756573135461643\n",
       " -1.0063658039685408"
      ]
     },
     "execution_count": 14,
     "metadata": {},
     "output_type": "execute_result"
    }
   ],
   "source": [
    "β_hat = mta_fit.β"
   ]
  }
 ],
 "metadata": {
  "kernelspec": {
   "display_name": "Julia 1.6.3",
   "language": "julia",
   "name": "julia-1.6.3"
  },
  "language_info": {
   "file_extension": ".jl",
   "mimetype": "application/julia",
   "name": "julia",
   "version": "1.6.3"
  }
 },
 "nbformat": 4,
 "nbformat_minor": 4
}
