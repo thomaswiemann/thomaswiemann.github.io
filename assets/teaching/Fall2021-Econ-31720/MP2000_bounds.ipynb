{
 "cells": [
  {
   "cell_type": "code",
   "execution_count": 32,
   "metadata": {},
   "outputs": [],
   "source": [
    "using DataFrames, StatFiles\n",
    "using Statistics"
   ]
  },
  {
   "cell_type": "code",
   "execution_count": 12,
   "metadata": {},
   "outputs": [],
   "source": [
    "# Import dataset as dataframe\n",
    "df = load(\"NEW7080.dta\") |> DataFrame;"
   ]
  },
  {
   "cell_type": "code",
   "execution_count": 22,
   "metadata": {},
   "outputs": [
    {
     "data": {
      "text/plain": [
       "329509-element Vector{Union{Missing, Float32}}:\n",
       " 6.245846f0\n",
       " 5.8471613f0\n",
       " 6.645516f0\n",
       " 6.7061334f0\n",
       " 6.357876f0\n",
       " 5.441835f0\n",
       " 6.39066f0\n",
       " 4.607667f0\n",
       " 6.553961f0\n",
       " 7.0170407f0\n",
       " 6.39066f0\n",
       " 6.9352894f0\n",
       " 6.5335164f0\n",
       " ⋮\n",
       " 5.9404345f0\n",
       " 6.417299f0\n",
       " 4.6621685f0\n",
       " 5.3548613f0\n",
       " 5.5987782f0\n",
       " 6.2148004f0\n",
       " 5.22709f0\n",
       " 4.583833f0\n",
       " 5.7842097f0\n",
       " 5.707302f0\n",
       " 5.9524937f0\n",
       " 6.0477815f0"
      ]
     },
     "execution_count": 22,
     "metadata": {},
     "output_type": "execute_result"
    }
   ],
   "source": [
    "indx = @. (df[:, 27] >= 30) & (df[:, 27] <= 39)\n",
    "df = df[indx, :]\n",
    "educ = df[:, 4]\n",
    "lwklywge = df[:, 9]"
   ]
  },
  {
   "cell_type": "code",
   "execution_count": 24,
   "metadata": {},
   "outputs": [
    {
     "data": {
      "text/plain": [
       "329509-element Vector{Union{Missing, Float32}}:\n",
       " 6.245846f0\n",
       " 5.8471613f0\n",
       " 6.645516f0\n",
       " 6.7061334f0\n",
       " 6.357876f0\n",
       " 5.441835f0\n",
       " 6.39066f0\n",
       " 4.607667f0\n",
       " 6.553961f0\n",
       " 7.0170407f0\n",
       " 6.39066f0\n",
       " 6.9352894f0\n",
       " 6.5335164f0\n",
       " ⋮\n",
       " 5.9404345f0\n",
       " 6.417299f0\n",
       " 4.6621685f0\n",
       " 5.3548613f0\n",
       " 5.5987782f0\n",
       " 6.2148004f0\n",
       " 5.22709f0\n",
       " 4.583833f0\n",
       " 5.7842097f0\n",
       " 5.707302f0\n",
       " 5.9524937f0\n",
       " 6.0477815f0"
      ]
     },
     "execution_count": 24,
     "metadata": {},
     "output_type": "execute_result"
    }
   ],
   "source": [
    "x = educ\n",
    "y = lwklywge"
   ]
  },
  {
   "cell_type": "code",
   "execution_count": 26,
   "metadata": {},
   "outputs": [
    {
     "data": {
      "text/plain": [
       "21-element Vector{Union{Missing, Int8}}:\n",
       "  0\n",
       "  1\n",
       "  2\n",
       "  3\n",
       "  4\n",
       "  5\n",
       "  6\n",
       "  7\n",
       "  8\n",
       "  9\n",
       " 10\n",
       " 11\n",
       " 12\n",
       " 13\n",
       " 14\n",
       " 15\n",
       " 16\n",
       " 17\n",
       " 18\n",
       " 19\n",
       " 20"
      ]
     },
     "execution_count": 26,
     "metadata": {},
     "output_type": "execute_result"
    }
   ],
   "source": [
    "sort(unique(educ))"
   ]
  },
  {
   "cell_type": "code",
   "execution_count": 41,
   "metadata": {},
   "outputs": [],
   "source": [
    "n = length(y)\n",
    "\n",
    "unq_x = sort(unique(x))\n",
    "px = zeros(length(unq_x))\n",
    "Eyx = zeros(length(unq_x))\n",
    "for u in 1:length(unq_x)\n",
    "    # Estimate P(x = u) and E[y|x = u]\n",
    "    indx = x .== unq_x[u]\n",
    "    px[u] = sum(indx) / n\n",
    "    Eyx[u] = mean(y[indx])\n",
    "end\n",
    "   \n"
   ]
  },
  {
   "cell_type": "code",
   "execution_count": 63,
   "metadata": {},
   "outputs": [],
   "source": [
    "struct myIVBound\n",
    "    px\n",
    "    Eyx\n",
    "    unq_x\n",
    "\n",
    "    function myIVBound(y, x)\n",
    "        unq_x = sort(unique(x))\n",
    "        px = zeros(length(unq_x))\n",
    "        Eyx = zeros(length(unq_x))\n",
    "        for u in 1:length(unq_x)\n",
    "            # Estimate P(x = u) and E[y|x = u]\n",
    "            indx = x .== unq_x[u]\n",
    "            px[u] = sum(indx) / n\n",
    "            Eyx[u] = mean(y[indx])\n",
    "        end\n",
    "        new(px, Eyx, unq_x)\n",
    "    end #MYIVBOUND\n",
    "end #MYIVBOUND"
   ]
  },
  {
   "cell_type": "code",
   "execution_count": 97,
   "metadata": {},
   "outputs": [
    {
     "data": {
      "text/plain": [
       "myIVBound([0.0018148214464551802, 0.0006524859715516117, 0.0018390999942338448, 0.0033049173163707214, 0.004081830845287989, 0.0060787414000831545, 0.011756886761818342, 0.01874607370360142, 0.048915204137064544, 0.04000801192076696  …  0.0414981077906825, 0.37308237407779454, 0.05540668084938499, 0.07793717318798576, 0.03026624462457778, 0.10848565593049052, 0.03660901523175391, 0.035370809295042015, 0.01914060010500472, 0.03483971606238373], [5.022031784057617, 5.064202308654785, 5.16669225692749, 5.173007488250732, 5.2644267082214355, 5.330813884735107, 5.403939723968506, 5.470223426818848, 5.572460651397705, 5.646152496337891  …  5.73173189163208, 5.844363689422607, 5.917121410369873, 5.962863922119141, 6.007511138916016, 6.231886386871338, 6.229525566101074, 6.268080234527588, 6.211447715759277, 6.310892105102539], Union{Missing, Int8}[0, 1, 2, 3, 4, 5, 6, 7, 8, 9  …  11, 12, 13, 14, 15, 16, 17, 18, 19, 20])"
      ]
     },
     "execution_count": 97,
     "metadata": {},
     "output_type": "execute_result"
    }
   ],
   "source": [
    "fit = myIVBound(y, x)"
   ]
  },
  {
   "cell_type": "code",
   "execution_count": 110,
   "metadata": {},
   "outputs": [
    {
     "data": {
      "text/plain": [
       "coef (generic function with 1 method)"
      ]
     },
     "execution_count": 110,
     "metadata": {},
     "output_type": "execute_result"
    }
   ],
   "source": [
    "function coef(fit::myIVBound, s, t)\n",
    "    Eyx_px = fit.Eyx .* fit.px\n",
    "\n",
    "    from_t = fit.unq_x .> t\n",
    "    until_s = fit.unq_x .< s\n",
    "    \n",
    "    ub = sum(Eyx_px[from_t]) + (fit.Eyx[fit.unq_x .== t] * sum(fit.px[.!from_t]))[1]\n",
    "    lb = sum(Eyx_px[until_s]) + (fit.Eyx[fit.unq_x .== s] * sum(fit.px[.!until_s]))[1]\n",
    "    \n",
    "    return ub - lb\n",
    "end"
   ]
  },
  {
   "cell_type": "code",
   "execution_count": 114,
   "metadata": {},
   "outputs": [
    {
     "data": {
      "text/plain": [
       "0.11202714900306754"
      ]
     },
     "execution_count": 114,
     "metadata": {},
     "output_type": "execute_result"
    }
   ],
   "source": [
    "coef(fit, 12, 16)/4"
   ]
  },
  {
   "cell_type": "code",
   "execution_count": 112,
   "metadata": {},
   "outputs": [],
   "source": [
    "bounds = zeros(19)\n",
    "for j in 2:20\n",
    "    bounds[j - 1] = coef(fit, j - 1, j)\n",
    "end"
   ]
  },
  {
   "cell_type": "code",
   "execution_count": 113,
   "metadata": {},
   "outputs": [
    {
     "data": {
      "text/plain": [
       "19-element Vector{Float64}:\n",
       " 0.8361493989101385\n",
       " 0.7339395208060582\n",
       " 0.728347306811429\n",
       " 0.6384001837934452\n",
       " 0.5740888677438534\n",
       " 0.5042198905181223\n",
       " 0.4448289522360005\n",
       " 0.35468933004610737\n",
       " 0.2935308064467135\n",
       " 0.2684520422704866\n",
       " 0.2564983532992233\n",
       " 0.21343974487222006\n",
       " 0.21454698115353832\n",
       " 0.23170190633874288\n",
       " 0.3916546646499208\n",
       " 0.3369873794462892\n",
       " 0.37239451417343794\n",
       " 0.3153741336578584\n",
       " 0.4144109499808719"
      ]
     },
     "execution_count": 113,
     "metadata": {},
     "output_type": "execute_result"
    }
   ],
   "source": [
    "bounds"
   ]
  },
  {
   "cell_type": "code",
   "execution_count": 103,
   "metadata": {},
   "outputs": [
    {
     "data": {
      "text/plain": [
       "21-element BitVector:\n",
       " 0\n",
       " 0\n",
       " 0\n",
       " 0\n",
       " 0\n",
       " 0\n",
       " 0\n",
       " 0\n",
       " 0\n",
       " 0\n",
       " 0\n",
       " 0\n",
       " 0\n",
       " 1\n",
       " 1\n",
       " 1\n",
       " 1\n",
       " 1\n",
       " 1\n",
       " 1\n",
       " 1"
      ]
     },
     "execution_count": 103,
     "metadata": {},
     "output_type": "execute_result"
    }
   ],
   "source": [
    "Eyx_px = fit.Eyx .* fit.px\n",
    "\n",
    "from_t = fit.unq_x .> t\n",
    "until_s = fit.unq_x .< s\n",
    "from_s = fit.unq_x .> s"
   ]
  },
  {
   "cell_type": "code",
   "execution_count": 101,
   "metadata": {},
   "outputs": [
    {
     "data": {
      "text/plain": [
       "3.606903817354834"
      ]
     },
     "execution_count": 101,
     "metadata": {},
     "output_type": "execute_result"
    }
   ],
   "source": [
    "ub = sum(Eyx_px[from_t]) + (fit.Eyx[fit.unq_x .== t] * sum(fit.px[.!from_t]))[1]\n",
    "lb = sum(Eyx_px[until_s]) + (fit.Eyx[fit.unq_x .== s] * sum(fit.px[from_s]))[1]"
   ]
  },
  {
   "cell_type": "code",
   "execution_count": 102,
   "metadata": {},
   "outputs": [
    {
     "data": {
      "text/plain": [
       "2.6285376762361152"
      ]
     },
     "execution_count": 102,
     "metadata": {},
     "output_type": "execute_result"
    }
   ],
   "source": [
    "ub - lb"
   ]
  },
  {
   "cell_type": "code",
   "execution_count": null,
   "metadata": {},
   "outputs": [],
   "source": []
  }
 ],
 "metadata": {
  "kernelspec": {
   "display_name": "Julia 1.6.3",
   "language": "julia",
   "name": "julia-1.6.3"
  },
  "language_info": {
   "file_extension": ".jl",
   "mimetype": "application/julia",
   "name": "julia",
   "version": "1.6.3"
  }
 },
 "nbformat": 4,
 "nbformat_minor": 4
}
