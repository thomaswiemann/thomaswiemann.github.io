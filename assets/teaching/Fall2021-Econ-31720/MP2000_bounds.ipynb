{
 "cells": [
  {
   "cell_type": "code",
   "execution_count": 1,
   "metadata": {},
   "outputs": [],
   "source": [
    "using DataFrames, StatFiles\n",
    "using Statistics"
   ]
  },
  {
   "cell_type": "code",
   "execution_count": 2,
   "metadata": {},
   "outputs": [],
   "source": [
    "# Import dataset as dataframe\n",
    "df = load(\"NEW7080.dta\") |> DataFrame;"
   ]
  },
  {
   "cell_type": "code",
   "execution_count": 3,
   "metadata": {},
   "outputs": [],
   "source": [
    "indx = @. (df[:, 27] >= 30) & (df[:, 27] <= 39)\n",
    "df = df[indx, :]\n",
    "educ = df[:, 4]\n",
    "lwklywge = df[:, 9];"
   ]
  },
  {
   "cell_type": "code",
   "execution_count": 6,
   "metadata": {},
   "outputs": [],
   "source": [
    "struct myIVBound\n",
    "    px\n",
    "    Eyx\n",
    "    unq_x\n",
    "\n",
    "    function myIVBound(y, x)\n",
    "        # Data parameters\n",
    "        n = length(y)\n",
    "        unq_x = sort(unique(x))\n",
    "        px = zeros(length(unq_x))\n",
    "        Eyx = zeros(length(unq_x))\n",
    "        for u in 1:length(unq_x)\n",
    "            # Estimate P(x = u) and E[y|x = u]\n",
    "            indx = x .== unq_x[u]\n",
    "            px[u] = sum(indx) / n\n",
    "            Eyx[u] = mean(y[indx])\n",
    "        end\n",
    "        new(px, Eyx, unq_x)\n",
    "    end #MYIVBOUND\n",
    "end #MYIVBOUND"
   ]
  },
  {
   "cell_type": "code",
   "execution_count": 8,
   "metadata": {},
   "outputs": [
    {
     "data": {
      "text/plain": [
       "coef (generic function with 1 method)"
      ]
     },
     "execution_count": 8,
     "metadata": {},
     "output_type": "execute_result"
    }
   ],
   "source": [
    "function coef(fit::myIVBound, s, t)\n",
    "    Eyx_px = fit.Eyx .* fit.px\n",
    "\n",
    "    from_t = fit.unq_x .> t\n",
    "    until_s = fit.unq_x .< s\n",
    "    \n",
    "    ub = sum(Eyx_px[from_t]) + (fit.Eyx[fit.unq_x .== t] * sum(fit.px[.!from_t]))[1]\n",
    "    lb = sum(Eyx_px[until_s]) + (fit.Eyx[fit.unq_x .== s] * sum(fit.px[.!until_s]))[1]\n",
    "    \n",
    "    return ub - lb\n",
    "end"
   ]
  },
  {
   "cell_type": "code",
   "execution_count": 9,
   "metadata": {},
   "outputs": [],
   "source": [
    "fit = myIVBound(lwklywge, educ);"
   ]
  },
  {
   "cell_type": "code",
   "execution_count": 10,
   "metadata": {},
   "outputs": [
    {
     "data": {
      "text/plain": [
       "0.11202714900306754"
      ]
     },
     "execution_count": 10,
     "metadata": {},
     "output_type": "execute_result"
    }
   ],
   "source": [
    "coef(fit, 12, 16)/4"
   ]
  },
  {
   "cell_type": "code",
   "execution_count": 11,
   "metadata": {},
   "outputs": [],
   "source": [
    "bounds = zeros(19)\n",
    "for j in 2:20\n",
    "    bounds[j - 1] = coef(fit, j - 1, j)\n",
    "end"
   ]
  },
  {
   "cell_type": "code",
   "execution_count": 12,
   "metadata": {},
   "outputs": [
    {
     "data": {
      "text/plain": [
       "19-element Vector{Float64}:\n",
       " 0.8361493989101385\n",
       " 0.7339395208060582\n",
       " 0.728347306811429\n",
       " 0.6384001837934452\n",
       " 0.5740888677438534\n",
       " 0.5042198905181223\n",
       " 0.4448289522360005\n",
       " 0.35468933004610737\n",
       " 0.2935308064467135\n",
       " 0.2684520422704866\n",
       " 0.2564983532992233\n",
       " 0.21343974487222006\n",
       " 0.21454698115353832\n",
       " 0.23170190633874288\n",
       " 0.3916546646499208\n",
       " 0.3369873794462892\n",
       " 0.37239451417343794\n",
       " 0.3153741336578584\n",
       " 0.4144109499808719"
      ]
     },
     "execution_count": 12,
     "metadata": {},
     "output_type": "execute_result"
    }
   ],
   "source": [
    "bounds"
   ]
  },
  {
   "cell_type": "code",
   "execution_count": null,
   "metadata": {},
   "outputs": [],
   "source": []
  }
 ],
 "metadata": {
  "kernelspec": {
   "display_name": "Julia 1.6.3",
   "language": "julia",
   "name": "julia-1.6.3"
  },
  "language_info": {
   "file_extension": ".jl",
   "mimetype": "application/julia",
   "name": "julia",
   "version": "1.6.3"
  }
 },
 "nbformat": 4,
 "nbformat_minor": 4
}
