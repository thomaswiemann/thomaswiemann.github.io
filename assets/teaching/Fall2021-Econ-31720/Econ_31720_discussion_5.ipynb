{
 "cells": [
  {
   "cell_type": "markdown",
   "metadata": {},
   "source": [
    "# Another Application of Monotone Instrumental Variables to Returns to Schooling  \n",
    "Author: Thomas Wiemann  \n",
    "Date: November 3, 2021 \n",
    "\n",
    "This notebook implements the MTS-MTR upper-bounds of Manski and Pepper (2000) and applies them to bound the returns to schooling using the data considered in Angrist and Krueger (1991)."
   ]
  },
  {
   "cell_type": "markdown",
   "metadata": {},
   "source": [
    "## Section 0: Preliminaries"
   ]
  },
  {
   "cell_type": "code",
   "execution_count": 1,
   "metadata": {},
   "outputs": [],
   "source": [
    "# Load required packages\n",
    "using DataFrames, StatFiles\n",
    "using Statistics"
   ]
  },
  {
   "cell_type": "markdown",
   "metadata": {},
   "source": [
    "## Section 1: MTS-MTR Bound Implementation\n",
    "\n",
    "The following implements a custom object of type ``myIVBound``. A corresponding method ``coef`` allows for calculation of the MTS-MTR upper-bound on $E[Y(t) - Y(s)]$."
   ]
  },
  {
   "cell_type": "code",
   "execution_count": 2,
   "metadata": {},
   "outputs": [],
   "source": [
    "struct myIVBound\n",
    "    px # P(X=x) for all x\n",
    "    Eyx # E[Y|X=x] for all x\n",
    "    unq_x # An orderd set of the unique values of X\n",
    "\n",
    "    function myIVBound(y, x)\n",
    "        # Data parameters\n",
    "        n = length(y)\n",
    "        unq_x = sort(unique(x))\n",
    "        # Calculate the empirical pmf and conditional expectation\n",
    "        px = zeros(length(unq_x))\n",
    "        Eyx = zeros(length(unq_x))\n",
    "        for v in 1:length(unq_x)\n",
    "            indx = x .== unq_x[v]\n",
    "            px[v] = sum(indx) / n\n",
    "            Eyx[v] = mean(y[indx])\n",
    "        end\n",
    "        # Return the myIVBound object\n",
    "        new(px, Eyx, unq_x)\n",
    "    end #MYIVBOUND\n",
    "end #MYIVBOUND"
   ]
  },
  {
   "cell_type": "code",
   "execution_count": 3,
   "metadata": {},
   "outputs": [
    {
     "data": {
      "text/plain": [
       "coef (generic function with 1 method)"
      ]
     },
     "execution_count": 3,
     "metadata": {},
     "output_type": "execute_result"
    }
   ],
   "source": [
    "function coef(fit::myIVBound, s, t)\n",
    "    \"\"\"\n",
    "    Returns the upper bound of E[Y(t) - Y(s)] under the MTS and MTR assumptions\n",
    "        of Manski and Pepper (2000).\n",
    "    \"\"\"\n",
    "    # Determine indices above and below t, s\n",
    "    from_t = fit.unq_x .> t\n",
    "    until_s = fit.unq_x .< s\n",
    "    # Calculate the upper-bound of E[Y(t)] and the lower-bound of E[Y(s)]\n",
    "    Eyx_px = fit.Eyx .* fit.px\n",
    "    ub = sum(Eyx_px[from_t]) + (fit.Eyx[fit.unq_x .== t] * \n",
    "        sum(fit.px[.!from_t]))[1]\n",
    "    lb = sum(Eyx_px[until_s]) + (fit.Eyx[fit.unq_x .== s] * \n",
    "        sum(fit.px[.!until_s]))[1]\n",
    "    # Subtract and return the upper and lower bounds\n",
    "    return ub - lb\n",
    "end"
   ]
  },
  {
   "cell_type": "markdown",
   "metadata": {},
   "source": [
    "## Section 2: Data\n",
    "\n",
    "This section loads the Angrist and Krueger (1991) data. The sample contains American men born between 1930 and 1939. The outcome variable is the log-weekly wage, and the endogeneous variable of interest is the years of completed schooling."
   ]
  },
  {
   "cell_type": "code",
   "execution_count": 4,
   "metadata": {},
   "outputs": [],
   "source": [
    "# Import dataset as dataframe\n",
    "df = load(\"NEW7080.dta\") |> DataFrame;"
   ]
  },
  {
   "cell_type": "code",
   "execution_count": 5,
   "metadata": {},
   "outputs": [],
   "source": [
    "# Select sample and variables of interest\n",
    "indx = @. (df[:, 27] >= 30) & (df[:, 27] <= 39)\n",
    "df = df[indx, :]\n",
    "educ = df[:, 4]\n",
    "lwklywge = df[:, 9];"
   ]
  },
  {
   "cell_type": "markdown",
   "metadata": {},
   "source": [
    "# Section 3: Estimation and Results\n",
    "\n",
    "This section constructs upper-bounds on $E[Y(t) - Y(t-4)]$ for $t \\in \\{4, 8, 12, 16, 20\\}$ to bound the returns to different school stages in the US education system (from elementary school to post-grad degrees)."
   ]
  },
  {
   "cell_type": "code",
   "execution_count": 6,
   "metadata": {},
   "outputs": [],
   "source": [
    "# Calculate the empirical pmf and conditional expectation\n",
    "fit = myIVBound(lwklywge, educ);"
   ]
  },
  {
   "cell_type": "code",
   "execution_count": 7,
   "metadata": {},
   "outputs": [],
   "source": [
    "# Calculate the bounds for each considered pair (t, s)\n",
    "bounds = zeros(5, 3)\n",
    "for j in (4, 8, 12, 16, 20)\n",
    "    bounds[Int(j/4), 1] = j - 4 # s\n",
    "    bounds[Int(j/4), 2] = j # t\n",
    "    bounds[Int(j/4), 3] = coef(fit, j - 4, j) # upper-bound\n",
    "end"
   ]
  },
  {
   "cell_type": "markdown",
   "metadata": {},
   "source": [
    "The third column below gives the upper-bounds for each considered pair $t$ (second column) and $s$ (first column)."
   ]
  },
  {
   "cell_type": "code",
   "execution_count": 8,
   "metadata": {},
   "outputs": [
    {
     "data": {
      "text/plain": [
       "5×3 Matrix{Float64}:\n",
       "  0.0   4.0  0.878966\n",
       "  4.0   8.0  0.646593\n",
       "  8.0  12.0  0.394537\n",
       " 12.0  16.0  0.448109\n",
       " 16.0  20.0  0.414501"
      ]
     },
     "execution_count": 8,
     "metadata": {},
     "output_type": "execute_result"
    }
   ],
   "source": [
    "bounds"
   ]
  },
  {
   "cell_type": "markdown",
   "metadata": {},
   "source": [
    "The results imply that the average returns to an additional year of, for example, college are bounded above by 0.112."
   ]
  },
  {
   "cell_type": "code",
   "execution_count": 9,
   "metadata": {},
   "outputs": [
    {
     "data": {
      "text/plain": [
       "5-element Vector{Float64}:\n",
       " 0.21974160221586803\n",
       " 0.16164813331066452\n",
       " 0.09863423959990292\n",
       " 0.11202714900306754\n",
       " 0.10362536060294159"
      ]
     },
     "execution_count": 9,
     "metadata": {},
     "output_type": "execute_result"
    }
   ],
   "source": [
    "bounds[:, 3] ./ 4"
   ]
  },
  {
   "cell_type": "markdown",
   "metadata": {},
   "source": [
    "Manski and Pepper (2000) report an upper-bound per year of college of 0.099 (using different data, of course)."
   ]
  }
 ],
 "metadata": {
  "kernelspec": {
   "display_name": "Julia 1.6.3",
   "language": "julia",
   "name": "julia-1.6.3"
  },
  "language_info": {
   "file_extension": ".jl",
   "mimetype": "application/julia",
   "name": "julia",
   "version": "1.6.3"
  }
 },
 "nbformat": 4,
 "nbformat_minor": 4
}
