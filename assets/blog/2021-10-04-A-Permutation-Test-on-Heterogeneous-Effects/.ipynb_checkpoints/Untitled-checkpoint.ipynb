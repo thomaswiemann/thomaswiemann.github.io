{
 "cells": [
  {
   "cell_type": "code",
   "execution_count": 1,
   "metadata": {},
   "outputs": [],
   "source": [
    "library(grf)"
   ]
  },
  {
   "cell_type": "code",
   "execution_count": 2,
   "metadata": {},
   "outputs": [],
   "source": [
    "n_obs <- 1000\n",
    "n_X <- 5\n",
    "n_X0 <- 5\n",
    "X <- matrix(rnorm(n_obs * (n_X + n_X0)), n_obs, (n_X + n_X0))\n",
    "theta <- log(abs(X[, 1]) * abs(X[, 2])) - 1 / (1 + abs(X[, 3])) + 2 * X[, 4] + exp(0.1 * X[, 5])\n",
    "\n",
    "D <- rnorm(n_obs)\n",
    "\n",
    "y <- D * theta + 2 * rnorm(n_obs)"
   ]
  },
  {
   "cell_type": "code",
   "execution_count": null,
   "metadata": {},
   "outputs": [],
   "source": [
    "num.trees = 100"
   ]
  },
  {
   "cell_type": "code",
   "execution_count": 6,
   "metadata": {},
   "outputs": [],
   "source": [
    "fit_grf <- causal_forest(X, y, D, num.trees = num.trees)"
   ]
  },
  {
   "cell_type": "code",
   "execution_count": 7,
   "metadata": {
    "scrolled": true
   },
   "outputs": [
    {
     "name": "stdout",
     "output_type": "stream",
     "text": [
      "  |======================================================================| 100%"
     ]
    }
   ],
   "source": [
    "n_sim <- 1000\n",
    "mse_mat <- matrix(0, n_sim, 1)\n",
    "pb <- txtProgressBar(min = 0, max = n_sim, style = 3)\n",
    "for (s in 1:n_sim) {\n",
    "    # Random permutation\n",
    "    smpl_s <- sample(c(1:n_obs), replace = FALSE)\n",
    "    X_s <- X[smpl_s, ]\n",
    "    # Estimate grf\n",
    "    fit_grf_s <- causal_forest(X_s, y, D, num.trees = num.trees)\n",
    "    # Calculate mean squared error\n",
    "    mse_mat[s] <- mean((y - predict(fit_grf_s)$predictions * D)^2)\n",
    "    # Update progress bar\n",
    "    setTxtProgressBar(pb, s)\n",
    "}#FOR"
   ]
  },
  {
   "cell_type": "code",
   "execution_count": 8,
   "metadata": {},
   "outputs": [],
   "source": [
    "fit_grf <- causal_forest(X, y, D)"
   ]
  },
  {
   "cell_type": "code",
   "execution_count": 9,
   "metadata": {},
   "outputs": [],
   "source": [
    "mse_0 <- mean((y - predict(fit_grf)$predictions * D)^2)"
   ]
  },
  {
   "cell_type": "code",
   "execution_count": 10,
   "metadata": {},
   "outputs": [
    {
     "data": {
      "text/html": [
       "0"
      ],
      "text/latex": [
       "0"
      ],
      "text/markdown": [
       "0"
      ],
      "text/plain": [
       "[1] 0"
      ]
     },
     "metadata": {},
     "output_type": "display_data"
    }
   ],
   "source": [
    "mean(mse_0 >= mse_mat)"
   ]
  },
  {
   "cell_type": "code",
   "execution_count": 11,
   "metadata": {},
   "outputs": [
    {
     "data": {
      "text/html": [
       "6.32078652951629"
      ],
      "text/latex": [
       "6.32078652951629"
      ],
      "text/markdown": [
       "6.32078652951629"
      ],
      "text/plain": [
       "[1] 6.320787"
      ]
     },
     "metadata": {},
     "output_type": "display_data"
    }
   ],
   "source": [
    "mse_0"
   ]
  },
  {
   "cell_type": "code",
   "execution_count": 12,
   "metadata": {},
   "outputs": [
    {
     "data": {
      "image/png": "[encoded data removed]",
      "text/plain": [
       "Plot with title “Histogram of mse_mat”"
      ]
     },
     "metadata": {
      "image/png": {
       "height": 420,
       "width": 420
      }
     },
     "output_type": "display_data"
    }
   ],
   "source": [
    "hist(mse_mat)"
   ]
  }
 ],
 "metadata": {
  "kernelspec": {
   "display_name": "R",
   "language": "R",
   "name": "ir"
  },
  "language_info": {
   "codemirror_mode": "r",
   "file_extension": ".r",
   "mimetype": "text/x-r-source",
   "name": "R",
   "pygments_lexer": "r",
   "version": "4.1.1"
  }
 },
 "nbformat": 4,
 "nbformat_minor": 4
}
